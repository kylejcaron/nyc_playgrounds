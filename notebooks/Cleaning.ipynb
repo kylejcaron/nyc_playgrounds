{
 "cells": [
  {
   "cell_type": "code",
   "execution_count": 1,
   "metadata": {},
   "outputs": [],
   "source": [
    "import numpy as np\n",
    "import pandas as pd\n",
    "import matplotlib.pyplot as plt\n",
    "import geopandas as gp\n",
    "%matplotlib inline"
   ]
  },
  {
   "cell_type": "markdown",
   "metadata": {},
   "source": [
    "# Introduction\n",
    "\n",
    "__Goal__:  Investigate a relationship between playground availability and household income in New York City.\n",
    "\n",
    "__Data__: \n",
    "\n",
    "https://www.irs.gov/statistics/soi-tax-stats-individual-income-tax-statistics-2016-zip-code-data-soi\n",
    "\n",
    "https://data.cityofnewyork.us/Environment/Directory-of-Playgrounds/59gn-q4ai\n",
    "\n",
    "https://data.cityofnewyork.us/Recreation/Directory-of-Parks/79me-a7rs\n",
    "\n",
    "\n",
    "#### Interesting links\n",
    "\n",
    "https://comptroller.nyc.gov/reports/state-of-play-a-new-model-for-nyc-playgrounds/\n",
    "\n",
    "https://www.nycgovparks.org/parks/brower-park/inspections/B012-03\n",
    "\n",
    "https://www.nycgovparks.org/about/history/playgrounds\n",
    "\n",
    "\n",
    "#### Zip codes datasets to identify NYC zipcodes vs NY state zipcodes\n",
    "\n",
    "https://www.nycbynatives.com/nyc_info/new_york_city_zip_codes.php\n",
    "\n",
    "https://journals.plos.org/plosone/article/file?type=supplementary&id=info:doi/10.1371/journal.pone.0194799.s001\n",
    "\n",
    "# Terminology\n",
    "\n",
    "__Playground vs. Park:__ To be clear, playgrounds and parks are separate entities. The main goal of this analysis is to investigate the relationship between __playgrounds__ and household income in NYC. _The Parks dataset is useful to provide a zipcode for the Playgrounds, however parks will not be considered playgrounds unless they are also present in the Playgrounds dataset._\n",
    "\n",
    "A __playground__ is typically (outdoors) a large open space to play on, usually for children, while a __park__ is an area of land set aside for environment preservation and/or informal recreation ([unofficial source](https://wikidiff.com/park/playground))\n",
    "\n",
    "\n",
    "# Ideas to look into, and how they relate to household income\n",
    "\n",
    " - #Playgrounds per zipcode\n",
    " - #Playgrounds per capita per zipcode\n",
    " - Accessibility of playgrounds\n",
    " - Of the playgrounds, which are actually attached to schools (therefore  less available)?\n",
    " - Sq footage of Playgrounds per zipcode (need dataset). \n",
    " - Of the playgrounds, which are actually in decent condition? \n",
    " - How has the Parks per capita changed over time?\n",
    " - can I predict park condition based on data?\n",
    " - can I predict median household income from park/playground condition, etc.\n",
    "\n",
    "## Potential Applications\n",
    " - <font color=blue>__Does the creation of new playgrounds in a low-income zipcode lead to gentrification? Does it therefore act as a predictor for increasing household income? Increasing property values?__</font>\n",
    "     - Ex: The High Line Park by Hudson Yards?\n",
    "     - Maybe this question is better geared towards parks, not playgrounds\n"
   ]
  },
  {
   "cell_type": "markdown",
   "metadata": {},
   "source": [
    "# Loading the Data"
   ]
  },
  {
   "cell_type": "markdown",
   "metadata": {},
   "source": [
    "### Playgrounds Dataset"
   ]
  },
  {
   "cell_type": "code",
   "execution_count": 2,
   "metadata": {},
   "outputs": [
    {
     "data": {
      "text/html": [
       "<div>\n",
       "<style scoped>\n",
       "    .dataframe tbody tr th:only-of-type {\n",
       "        vertical-align: middle;\n",
       "    }\n",
       "\n",
       "    .dataframe tbody tr th {\n",
       "        vertical-align: top;\n",
       "    }\n",
       "\n",
       "    .dataframe thead th {\n",
       "        text-align: right;\n",
       "    }\n",
       "</style>\n",
       "<table border=\"1\" class=\"dataframe\">\n",
       "  <thead>\n",
       "    <tr style=\"text-align: right;\">\n",
       "      <th></th>\n",
       "      <th>Accessible</th>\n",
       "      <th>Adaptive_Swing</th>\n",
       "      <th>Level</th>\n",
       "      <th>Location</th>\n",
       "      <th>Name</th>\n",
       "      <th>Playground_ID</th>\n",
       "      <th>Prop_ID</th>\n",
       "      <th>School_ID</th>\n",
       "      <th>Status</th>\n",
       "      <th>lat</th>\n",
       "      <th>lon</th>\n",
       "    </tr>\n",
       "  </thead>\n",
       "  <tbody>\n",
       "    <tr>\n",
       "      <th>0</th>\n",
       "      <td>Y</td>\n",
       "      <td>N</td>\n",
       "      <td>4.0</td>\n",
       "      <td>Noble, Franklin, Milton Streets</td>\n",
       "      <td>American Playground</td>\n",
       "      <td>B001</td>\n",
       "      <td>B001</td>\n",
       "      <td>None</td>\n",
       "      <td>None</td>\n",
       "      <td>40.7288</td>\n",
       "      <td>-73.9579</td>\n",
       "    </tr>\n",
       "    <tr>\n",
       "      <th>1</th>\n",
       "      <td>Y</td>\n",
       "      <td>N</td>\n",
       "      <td>4.0</td>\n",
       "      <td>BAY PKWY &amp; CROPSEY AVENUE</td>\n",
       "      <td>Bensonhurst Park</td>\n",
       "      <td>B007-01</td>\n",
       "      <td>B007</td>\n",
       "      <td>None</td>\n",
       "      <td>None</td>\n",
       "      <td>40.5969</td>\n",
       "      <td>-73.9998</td>\n",
       "    </tr>\n",
       "    <tr>\n",
       "      <th>2</th>\n",
       "      <td>Y</td>\n",
       "      <td>N</td>\n",
       "      <td>1.0</td>\n",
       "      <td>DUMONT AVE &amp; BRISTOL ST</td>\n",
       "      <td>Betsy Head Memorial Playground</td>\n",
       "      <td>B008-03</td>\n",
       "      <td>B008</td>\n",
       "      <td>None</td>\n",
       "      <td>None</td>\n",
       "      <td>40.6645</td>\n",
       "      <td>-73.9118</td>\n",
       "    </tr>\n",
       "    <tr>\n",
       "      <th>3</th>\n",
       "      <td>Y</td>\n",
       "      <td>N</td>\n",
       "      <td>2.0</td>\n",
       "      <td>BROOKLYN AVE &amp; PROSPECT PL</td>\n",
       "      <td>Brower Park</td>\n",
       "      <td>B012-02</td>\n",
       "      <td>B012</td>\n",
       "      <td>None</td>\n",
       "      <td>None</td>\n",
       "      <td>40.6735</td>\n",
       "      <td>-73.9438</td>\n",
       "    </tr>\n",
       "    <tr>\n",
       "      <th>4</th>\n",
       "      <td>Y</td>\n",
       "      <td>Y</td>\n",
       "      <td>2.0</td>\n",
       "      <td>BROOKLYN AVE &amp; PROSPECT PL</td>\n",
       "      <td>Brower Park</td>\n",
       "      <td>B012-03</td>\n",
       "      <td>B012</td>\n",
       "      <td>None</td>\n",
       "      <td>None</td>\n",
       "      <td>40.6744</td>\n",
       "      <td>-73.9432</td>\n",
       "    </tr>\n",
       "  </tbody>\n",
       "</table>\n",
       "</div>"
      ],
      "text/plain": [
       "  Accessible Adaptive_Swing  Level                         Location  \\\n",
       "0          Y              N    4.0  Noble, Franklin, Milton Streets   \n",
       "1          Y              N    4.0        BAY PKWY & CROPSEY AVENUE   \n",
       "2          Y              N    1.0          DUMONT AVE & BRISTOL ST   \n",
       "3          Y              N    2.0       BROOKLYN AVE & PROSPECT PL   \n",
       "4          Y              Y    2.0       BROOKLYN AVE & PROSPECT PL   \n",
       "\n",
       "                             Name Playground_ID Prop_ID School_ID Status  \\\n",
       "0             American Playground          B001    B001      None   None   \n",
       "1                Bensonhurst Park       B007-01    B007      None   None   \n",
       "2  Betsy Head Memorial Playground       B008-03    B008      None   None   \n",
       "3                     Brower Park       B012-02    B012      None   None   \n",
       "4                     Brower Park       B012-03    B012      None   None   \n",
       "\n",
       "       lat      lon  \n",
       "0  40.7288 -73.9579  \n",
       "1  40.5969 -73.9998  \n",
       "2  40.6645 -73.9118  \n",
       "3  40.6735 -73.9438  \n",
       "4  40.6744 -73.9432  "
      ]
     },
     "execution_count": 2,
     "metadata": {},
     "output_type": "execute_result"
    }
   ],
   "source": [
    "playgrounds = pd.read_json('../data/playgrounds/DPR_Playgrounds_001.json')\n",
    "playgrounds.head()"
   ]
  },
  {
   "cell_type": "markdown",
   "metadata": {},
   "source": [
    "### Parks Dataset"
   ]
  },
  {
   "cell_type": "code",
   "execution_count": 3,
   "metadata": {},
   "outputs": [
    {
     "data": {
      "text/html": [
       "<div>\n",
       "<style scoped>\n",
       "    .dataframe tbody tr th:only-of-type {\n",
       "        vertical-align: middle;\n",
       "    }\n",
       "\n",
       "    .dataframe tbody tr th {\n",
       "        vertical-align: top;\n",
       "    }\n",
       "\n",
       "    .dataframe thead th {\n",
       "        text-align: right;\n",
       "    }\n",
       "</style>\n",
       "<table border=\"1\" class=\"dataframe\">\n",
       "  <thead>\n",
       "    <tr style=\"text-align: right;\">\n",
       "      <th></th>\n",
       "      <th>Location</th>\n",
       "      <th>Name</th>\n",
       "      <th>Prop_ID</th>\n",
       "      <th>Zip</th>\n",
       "    </tr>\n",
       "  </thead>\n",
       "  <tbody>\n",
       "    <tr>\n",
       "      <th>0</th>\n",
       "      <td>Franklin St. bet. Milton St. and Noble St.</td>\n",
       "      <td>American Playground</td>\n",
       "      <td>B001</td>\n",
       "      <td>11222</td>\n",
       "    </tr>\n",
       "    <tr>\n",
       "      <th>1</th>\n",
       "      <td>E. 38 St., E. 38 St. bet. Ave. I and Ave. J</td>\n",
       "      <td>Amersfort Park</td>\n",
       "      <td>B002</td>\n",
       "      <td>11210</td>\n",
       "    </tr>\n",
       "    <tr>\n",
       "      <th>2</th>\n",
       "      <td>Prospect Park W., 15 St.</td>\n",
       "      <td>Bartel-Pritchard Square</td>\n",
       "      <td>B003</td>\n",
       "      <td>11215</td>\n",
       "    </tr>\n",
       "    <tr>\n",
       "      <th>3</th>\n",
       "      <td>Broadway, Stuyvesant Ave., Vernon Ave.</td>\n",
       "      <td>Beattie Square</td>\n",
       "      <td>B006</td>\n",
       "      <td>11221</td>\n",
       "    </tr>\n",
       "    <tr>\n",
       "      <th>4</th>\n",
       "      <td>Cropsey Ave. bet. 21 Ave. and Bay Pkwy.</td>\n",
       "      <td>Bensonhurst Park</td>\n",
       "      <td>B007</td>\n",
       "      <td>11214</td>\n",
       "    </tr>\n",
       "  </tbody>\n",
       "</table>\n",
       "</div>"
      ],
      "text/plain": [
       "                                      Location                     Name  \\\n",
       "0   Franklin St. bet. Milton St. and Noble St.      American Playground   \n",
       "1  E. 38 St., E. 38 St. bet. Ave. I and Ave. J           Amersfort Park   \n",
       "2                     Prospect Park W., 15 St.  Bartel-Pritchard Square   \n",
       "3       Broadway, Stuyvesant Ave., Vernon Ave.           Beattie Square   \n",
       "4      Cropsey Ave. bet. 21 Ave. and Bay Pkwy.         Bensonhurst Park   \n",
       "\n",
       "  Prop_ID    Zip  \n",
       "0    B001  11222  \n",
       "1    B002  11210  \n",
       "2    B003  11215  \n",
       "3    B006  11221  \n",
       "4    B007  11214  "
      ]
     },
     "execution_count": 3,
     "metadata": {},
     "output_type": "execute_result"
    }
   ],
   "source": [
    "parks = pd.read_json('../data/parks/DPR_Parks_001.json')\n",
    "parks.head()"
   ]
  },
  {
   "cell_type": "markdown",
   "metadata": {},
   "source": [
    "### Tax Return Dataset"
   ]
  },
  {
   "cell_type": "code",
   "execution_count": 4,
   "metadata": {},
   "outputs": [
    {
     "data": {
      "text/html": [
       "<div>\n",
       "<style scoped>\n",
       "    .dataframe tbody tr th:only-of-type {\n",
       "        vertical-align: middle;\n",
       "    }\n",
       "\n",
       "    .dataframe tbody tr th {\n",
       "        vertical-align: top;\n",
       "    }\n",
       "\n",
       "    .dataframe thead th {\n",
       "        text-align: right;\n",
       "    }\n",
       "</style>\n",
       "<table border=\"1\" class=\"dataframe\">\n",
       "  <thead>\n",
       "    <tr style=\"text-align: right;\">\n",
       "      <th></th>\n",
       "      <th>STATEFIPS</th>\n",
       "      <th>STATE</th>\n",
       "      <th>zipcode</th>\n",
       "      <th>agi_stub</th>\n",
       "      <th>N1</th>\n",
       "      <th>mars1</th>\n",
       "      <th>MARS2</th>\n",
       "      <th>MARS4</th>\n",
       "      <th>PREP</th>\n",
       "      <th>N2</th>\n",
       "      <th>...</th>\n",
       "      <th>N10300</th>\n",
       "      <th>A10300</th>\n",
       "      <th>N85530</th>\n",
       "      <th>A85530</th>\n",
       "      <th>N85300</th>\n",
       "      <th>A85300</th>\n",
       "      <th>N11901</th>\n",
       "      <th>A11901</th>\n",
       "      <th>N11902</th>\n",
       "      <th>A11902</th>\n",
       "    </tr>\n",
       "  </thead>\n",
       "  <tbody>\n",
       "    <tr>\n",
       "      <th>0</th>\n",
       "      <td>36</td>\n",
       "      <td>NY</td>\n",
       "      <td>0</td>\n",
       "      <td>1</td>\n",
       "      <td>3445320</td>\n",
       "      <td>2355000</td>\n",
       "      <td>445210</td>\n",
       "      <td>595120</td>\n",
       "      <td>2114350</td>\n",
       "      <td>4860320</td>\n",
       "      <td>...</td>\n",
       "      <td>1713210</td>\n",
       "      <td>1659729</td>\n",
       "      <td>20</td>\n",
       "      <td>8</td>\n",
       "      <td>0</td>\n",
       "      <td>0</td>\n",
       "      <td>441650</td>\n",
       "      <td>387884</td>\n",
       "      <td>2729330</td>\n",
       "      <td>5662377</td>\n",
       "    </tr>\n",
       "    <tr>\n",
       "      <th>1</th>\n",
       "      <td>36</td>\n",
       "      <td>NY</td>\n",
       "      <td>0</td>\n",
       "      <td>2</td>\n",
       "      <td>2124110</td>\n",
       "      <td>1162700</td>\n",
       "      <td>441680</td>\n",
       "      <td>474330</td>\n",
       "      <td>1285810</td>\n",
       "      <td>3760990</td>\n",
       "      <td>...</td>\n",
       "      <td>1816240</td>\n",
       "      <td>5000576</td>\n",
       "      <td>0</td>\n",
       "      <td>0</td>\n",
       "      <td>0</td>\n",
       "      <td>0</td>\n",
       "      <td>290630</td>\n",
       "      <td>482940</td>\n",
       "      <td>1801120</td>\n",
       "      <td>4662872</td>\n",
       "    </tr>\n",
       "    <tr>\n",
       "      <th>2</th>\n",
       "      <td>36</td>\n",
       "      <td>NY</td>\n",
       "      <td>0</td>\n",
       "      <td>3</td>\n",
       "      <td>1297620</td>\n",
       "      <td>644300</td>\n",
       "      <td>399250</td>\n",
       "      <td>216270</td>\n",
       "      <td>829800</td>\n",
       "      <td>2372130</td>\n",
       "      <td>...</td>\n",
       "      <td>1257120</td>\n",
       "      <td>7572716</td>\n",
       "      <td>30</td>\n",
       "      <td>18</td>\n",
       "      <td>20</td>\n",
       "      <td>42</td>\n",
       "      <td>258810</td>\n",
       "      <td>585359</td>\n",
       "      <td>1013190</td>\n",
       "      <td>2932751</td>\n",
       "    </tr>\n",
       "    <tr>\n",
       "      <th>3</th>\n",
       "      <td>36</td>\n",
       "      <td>NY</td>\n",
       "      <td>0</td>\n",
       "      <td>4</td>\n",
       "      <td>825090</td>\n",
       "      <td>307120</td>\n",
       "      <td>392040</td>\n",
       "      <td>99830</td>\n",
       "      <td>554500</td>\n",
       "      <td>1705160</td>\n",
       "      <td>...</td>\n",
       "      <td>816050</td>\n",
       "      <td>7895883</td>\n",
       "      <td>0</td>\n",
       "      <td>0</td>\n",
       "      <td>0</td>\n",
       "      <td>0</td>\n",
       "      <td>183170</td>\n",
       "      <td>543754</td>\n",
       "      <td>615490</td>\n",
       "      <td>2209076</td>\n",
       "    </tr>\n",
       "    <tr>\n",
       "      <th>4</th>\n",
       "      <td>36</td>\n",
       "      <td>NY</td>\n",
       "      <td>0</td>\n",
       "      <td>5</td>\n",
       "      <td>1242910</td>\n",
       "      <td>293570</td>\n",
       "      <td>841180</td>\n",
       "      <td>82060</td>\n",
       "      <td>877120</td>\n",
       "      <td>3053270</td>\n",
       "      <td>...</td>\n",
       "      <td>1237140</td>\n",
       "      <td>23154728</td>\n",
       "      <td>16500</td>\n",
       "      <td>4382</td>\n",
       "      <td>3910</td>\n",
       "      <td>2224</td>\n",
       "      <td>343770</td>\n",
       "      <td>1668063</td>\n",
       "      <td>840920</td>\n",
       "      <td>4104126</td>\n",
       "    </tr>\n",
       "  </tbody>\n",
       "</table>\n",
       "<p>5 rows × 147 columns</p>\n",
       "</div>"
      ],
      "text/plain": [
       "   STATEFIPS STATE  zipcode  agi_stub       N1    mars1   MARS2   MARS4  \\\n",
       "0         36    NY        0         1  3445320  2355000  445210  595120   \n",
       "1         36    NY        0         2  2124110  1162700  441680  474330   \n",
       "2         36    NY        0         3  1297620   644300  399250  216270   \n",
       "3         36    NY        0         4   825090   307120  392040   99830   \n",
       "4         36    NY        0         5  1242910   293570  841180   82060   \n",
       "\n",
       "      PREP       N2  ...   N10300    A10300  N85530  A85530  N85300  A85300  \\\n",
       "0  2114350  4860320  ...  1713210   1659729      20       8       0       0   \n",
       "1  1285810  3760990  ...  1816240   5000576       0       0       0       0   \n",
       "2   829800  2372130  ...  1257120   7572716      30      18      20      42   \n",
       "3   554500  1705160  ...   816050   7895883       0       0       0       0   \n",
       "4   877120  3053270  ...  1237140  23154728   16500    4382    3910    2224   \n",
       "\n",
       "   N11901   A11901   N11902   A11902  \n",
       "0  441650   387884  2729330  5662377  \n",
       "1  290630   482940  1801120  4662872  \n",
       "2  258810   585359  1013190  2932751  \n",
       "3  183170   543754   615490  2209076  \n",
       "4  343770  1668063   840920  4104126  \n",
       "\n",
       "[5 rows x 147 columns]"
      ]
     },
     "execution_count": 4,
     "metadata": {},
     "output_type": "execute_result"
    }
   ],
   "source": [
    "tax_returns = pd.read_csv('../data/income/16zpallagi.csv')\n",
    "tax_returns_ny = tax_returns.loc[tax_returns['STATE']=='NY',:].reset_index(drop=True)\n",
    "tax_returns_ny.head()\n"
   ]
  },
  {
   "cell_type": "markdown",
   "metadata": {},
   "source": [
    "### Cleaning Tax Return dataset\n",
    "\n",
    " - Need to flatten dataset - 1 row per zipcode will be easier to work with, but its going to become a very wide dataset\n",
    " - Need to use only zipcodes from NYC"
   ]
  },
  {
   "cell_type": "code",
   "execution_count": 5,
   "metadata": {},
   "outputs": [],
   "source": [
    "tax_returns_ny = tax_returns_ny.groupby('zipcode').sum()\n",
    "tax_returns_ny.drop(['STATEFIPS', 'agi_stub'], axis=1, inplace=True)"
   ]
  },
  {
   "cell_type": "markdown",
   "metadata": {},
   "source": [
    "# EDA: Parks and Playgrounds Datasets\n",
    "\n",
    "Prop_IDs are supposed to be a unique identifier for the property, and I expected there to be one per row in both the parks and playgrounds dataframes, however thats not the case for the playgrounds dataset. Will need to investigate"
   ]
  },
  {
   "cell_type": "code",
   "execution_count": 6,
   "metadata": {},
   "outputs": [
    {
     "name": "stdout",
     "output_type": "stream",
     "text": [
      "Number of rows in Parks dataframe: 1673\n",
      "Number of unique Prop_IDs in Parks Dataframe: 1673\n",
      "\n",
      "Number of rows in Playgrounds dataframe: 1269\n",
      "Number of unique Prop_IDs in Playgrounds Dataframe: 870\n",
      "\n",
      "Parks dataset has 834 Prop_IDs not listed in the playgrounds dataset\n",
      "Parks dataset has 31 Prop_IDs not listed in the playgrounds dataset\n",
      "\n"
     ]
    }
   ],
   "source": [
    "print('''Number of rows in Parks dataframe: {}\n",
    "Number of unique Prop_IDs in Parks Dataframe: {}\\n'''.format(\n",
    "    len(parks), parks['Prop_ID'].nunique()))\n",
    "print('''Number of rows in Playgrounds dataframe: {}\n",
    "Number of unique Prop_IDs in Playgrounds Dataframe: {}\\n'''.format(\n",
    "    len(playgrounds),playgrounds['Prop_ID'].nunique()))\n",
    "\n",
    "print('Parks dataset has {} Prop_IDs not listed in the playgrounds dataset'.format(\n",
    "        len(set(parks.Prop_ID) - set(playgrounds.Prop_ID))))\n",
    "print('Parks dataset has {} Prop_IDs not listed in the playgrounds dataset\\n'.format(\n",
    "        len(set(playgrounds.Prop_ID) - set(parks.Prop_ID))))\n"
   ]
  },
  {
   "cell_type": "code",
   "execution_count": 7,
   "metadata": {},
   "outputs": [],
   "source": [
    "playgrounds[playgrounds.Prop_ID.duplicated()]; # Remove ; to see all duplicates in playgrounds"
   ]
  },
  {
   "cell_type": "markdown",
   "metadata": {},
   "source": [
    "__Many Playground_IDs are missing values__"
   ]
  },
  {
   "cell_type": "code",
   "execution_count": 8,
   "metadata": {},
   "outputs": [
    {
     "name": "stdout",
     "output_type": "stream",
     "text": [
      "248 playgrounds are missing Playground_IDs\n"
     ]
    }
   ],
   "source": [
    "print('{} playgrounds are missing Playground_IDs'.format(\n",
    "    len(playgrounds[(playgrounds.Playground_ID.isna())])))"
   ]
  },
  {
   "cell_type": "markdown",
   "metadata": {},
   "source": [
    "__Number of missing values per column in playgrounds dataset__ "
   ]
  },
  {
   "cell_type": "code",
   "execution_count": 9,
   "metadata": {},
   "outputs": [],
   "source": [
    "def count_missing_values(df):\n",
    "    return len(df)-df.count()"
   ]
  },
  {
   "cell_type": "code",
   "execution_count": 10,
   "metadata": {},
   "outputs": [
    {
     "data": {
      "text/plain": [
       "Accessible           3\n",
       "Adaptive_Swing      97\n",
       "Level               95\n",
       "Location             3\n",
       "Name                 0\n",
       "Playground_ID      248\n",
       "Prop_ID              0\n",
       "School_ID         1035\n",
       "Status            1035\n",
       "lat                 24\n",
       "lon                 24\n",
       "dtype: int64"
      ]
     },
     "execution_count": 10,
     "metadata": {},
     "output_type": "execute_result"
    }
   ],
   "source": [
    "count_missing_values(playgrounds)"
   ]
  },
  {
   "cell_type": "markdown",
   "metadata": {},
   "source": [
    "For many of the above columns, missing values are to be expected. i.e. the school_id having a missing value simply means the playground is not associated with a school. \n",
    "    \n",
    "    1.  Concerned about the 24 parks missing coordinates. Are the entries missing latitudes the same as the entries missing longitudes?\n",
    "    \n",
    "    2.  Are there any parks missing both coordinates and locations?\n"
   ]
  },
  {
   "cell_type": "code",
   "execution_count": 11,
   "metadata": {},
   "outputs": [
    {
     "name": "stdout",
     "output_type": "stream",
     "text": [
      "24 different playgrounds are missing coordinates\n"
     ]
    }
   ],
   "source": [
    "print('{} different playgrounds are missing coordinates'.format(\n",
    "    len(playgrounds[(playgrounds.lon.isna()) | (playgrounds.lat.isna())])))"
   ]
  },
  {
   "cell_type": "code",
   "execution_count": 12,
   "metadata": {},
   "outputs": [],
   "source": [
    "playgrounds[(playgrounds.lon.isna()) | (playgrounds.lat.isna())];"
   ]
  },
  {
   "cell_type": "code",
   "execution_count": 13,
   "metadata": {},
   "outputs": [
    {
     "name": "stdout",
     "output_type": "stream",
     "text": [
      "2 different playgrounds are missing both coordinates and Locations (see below)\n"
     ]
    },
    {
     "data": {
      "text/html": [
       "<div>\n",
       "<style scoped>\n",
       "    .dataframe tbody tr th:only-of-type {\n",
       "        vertical-align: middle;\n",
       "    }\n",
       "\n",
       "    .dataframe tbody tr th {\n",
       "        vertical-align: top;\n",
       "    }\n",
       "\n",
       "    .dataframe thead th {\n",
       "        text-align: right;\n",
       "    }\n",
       "</style>\n",
       "<table border=\"1\" class=\"dataframe\">\n",
       "  <thead>\n",
       "    <tr style=\"text-align: right;\">\n",
       "      <th></th>\n",
       "      <th>Accessible</th>\n",
       "      <th>Adaptive_Swing</th>\n",
       "      <th>Level</th>\n",
       "      <th>Location</th>\n",
       "      <th>Name</th>\n",
       "      <th>Playground_ID</th>\n",
       "      <th>Prop_ID</th>\n",
       "      <th>School_ID</th>\n",
       "      <th>Status</th>\n",
       "      <th>lat</th>\n",
       "      <th>lon</th>\n",
       "    </tr>\n",
       "  </thead>\n",
       "  <tbody>\n",
       "    <tr>\n",
       "      <th>1239</th>\n",
       "      <td>Y</td>\n",
       "      <td>Y</td>\n",
       "      <td>1.0</td>\n",
       "      <td>None</td>\n",
       "      <td>Hunter's Point South Park</td>\n",
       "      <td>Q471</td>\n",
       "      <td>Q471</td>\n",
       "      <td>None</td>\n",
       "      <td>None</td>\n",
       "      <td>NaN</td>\n",
       "      <td>NaN</td>\n",
       "    </tr>\n",
       "    <tr>\n",
       "      <th>1252</th>\n",
       "      <td>Y</td>\n",
       "      <td>Y</td>\n",
       "      <td>2.0</td>\n",
       "      <td>None</td>\n",
       "      <td>Ranaqua Playground</td>\n",
       "      <td>X272</td>\n",
       "      <td>X272</td>\n",
       "      <td>None</td>\n",
       "      <td>None</td>\n",
       "      <td>NaN</td>\n",
       "      <td>NaN</td>\n",
       "    </tr>\n",
       "  </tbody>\n",
       "</table>\n",
       "</div>"
      ],
      "text/plain": [
       "     Accessible Adaptive_Swing  Level Location                       Name  \\\n",
       "1239          Y              Y    1.0     None  Hunter's Point South Park   \n",
       "1252          Y              Y    2.0     None         Ranaqua Playground   \n",
       "\n",
       "     Playground_ID Prop_ID School_ID Status  lat  lon  \n",
       "1239          Q471    Q471      None   None  NaN  NaN  \n",
       "1252          X272    X272      None   None  NaN  NaN  "
      ]
     },
     "execution_count": 13,
     "metadata": {},
     "output_type": "execute_result"
    }
   ],
   "source": [
    "print('{} different playgrounds are missing both coordinates and Locations (see below)'.format(\n",
    "    len(playgrounds[(playgrounds.lon.isna()) & (playgrounds.Location.isna())])))\n",
    "\n",
    "playgrounds[(playgrounds.lon.isna()) & (playgrounds.Location.isna())]\n"
   ]
  },
  {
   "cell_type": "markdown",
   "metadata": {},
   "source": [
    "The good news is that although both coordinates and locations are missing for 2 entries, they are identifiable and distinguishable via the Names (as well as the Prop_IDs and Playground_IDs)"
   ]
  },
  {
   "cell_type": "markdown",
   "metadata": {},
   "source": [
    "# Joining the Playgrounds and Parks datasets\n",
    "\n",
    "- Interested in Playgrounds, not parks (Park dataset is mainly needed for zipcodes). A Left join is ideal\n",
    "- Consider each row in the Playgrounds Dataset as a separate playground. Join on the Prop_ID column to get a zipcode for each park. \n",
    "- Rename Locations and name for each dataset"
   ]
  },
  {
   "cell_type": "code",
   "execution_count": 14,
   "metadata": {},
   "outputs": [
    {
     "data": {
      "text/html": [
       "<div>\n",
       "<style scoped>\n",
       "    .dataframe tbody tr th:only-of-type {\n",
       "        vertical-align: middle;\n",
       "    }\n",
       "\n",
       "    .dataframe tbody tr th {\n",
       "        vertical-align: top;\n",
       "    }\n",
       "\n",
       "    .dataframe thead th {\n",
       "        text-align: right;\n",
       "    }\n",
       "</style>\n",
       "<table border=\"1\" class=\"dataframe\">\n",
       "  <thead>\n",
       "    <tr style=\"text-align: right;\">\n",
       "      <th></th>\n",
       "      <th>Accessible</th>\n",
       "      <th>Adaptive_Swing</th>\n",
       "      <th>Level</th>\n",
       "      <th>Playground_Location</th>\n",
       "      <th>Playground_Name</th>\n",
       "      <th>Playground_ID</th>\n",
       "      <th>Prop_ID</th>\n",
       "      <th>School_ID</th>\n",
       "      <th>Status</th>\n",
       "      <th>lat</th>\n",
       "      <th>lon</th>\n",
       "      <th>Park_Location</th>\n",
       "      <th>Park_Name</th>\n",
       "      <th>Zip</th>\n",
       "    </tr>\n",
       "  </thead>\n",
       "  <tbody>\n",
       "    <tr>\n",
       "      <th>0</th>\n",
       "      <td>Y</td>\n",
       "      <td>N</td>\n",
       "      <td>4.0</td>\n",
       "      <td>Noble, Franklin, Milton Streets</td>\n",
       "      <td>American Playground</td>\n",
       "      <td>B001</td>\n",
       "      <td>B001</td>\n",
       "      <td>None</td>\n",
       "      <td>None</td>\n",
       "      <td>40.7288</td>\n",
       "      <td>-73.9579</td>\n",
       "      <td>Franklin St. bet. Milton St. and Noble St.</td>\n",
       "      <td>American Playground</td>\n",
       "      <td>11222</td>\n",
       "    </tr>\n",
       "    <tr>\n",
       "      <th>1</th>\n",
       "      <td>Y</td>\n",
       "      <td>N</td>\n",
       "      <td>4.0</td>\n",
       "      <td>BAY PKWY &amp; CROPSEY AVENUE</td>\n",
       "      <td>Bensonhurst Park</td>\n",
       "      <td>B007-01</td>\n",
       "      <td>B007</td>\n",
       "      <td>None</td>\n",
       "      <td>None</td>\n",
       "      <td>40.5969</td>\n",
       "      <td>-73.9998</td>\n",
       "      <td>Cropsey Ave. bet. 21 Ave. and Bay Pkwy.</td>\n",
       "      <td>Bensonhurst Park</td>\n",
       "      <td>11214</td>\n",
       "    </tr>\n",
       "    <tr>\n",
       "      <th>2</th>\n",
       "      <td>Y</td>\n",
       "      <td>N</td>\n",
       "      <td>1.0</td>\n",
       "      <td>DUMONT AVE &amp; BRISTOL ST</td>\n",
       "      <td>Betsy Head Memorial Playground</td>\n",
       "      <td>B008-03</td>\n",
       "      <td>B008</td>\n",
       "      <td>None</td>\n",
       "      <td>None</td>\n",
       "      <td>40.6645</td>\n",
       "      <td>-73.9118</td>\n",
       "      <td>Blake Ave., Dumont Ave., Livonia Ave. bet. Str...</td>\n",
       "      <td>Betsy Head Park</td>\n",
       "      <td>11212</td>\n",
       "    </tr>\n",
       "    <tr>\n",
       "      <th>3</th>\n",
       "      <td>Y</td>\n",
       "      <td>N</td>\n",
       "      <td>2.0</td>\n",
       "      <td>BROOKLYN AVE &amp; PROSPECT PL</td>\n",
       "      <td>Brower Park</td>\n",
       "      <td>B012-02</td>\n",
       "      <td>B012</td>\n",
       "      <td>None</td>\n",
       "      <td>None</td>\n",
       "      <td>40.6735</td>\n",
       "      <td>-73.9438</td>\n",
       "      <td>St. Mark's Ave., Park Pl. bet. Brooklyn Ave. a...</td>\n",
       "      <td>Brower Park</td>\n",
       "      <td>11213</td>\n",
       "    </tr>\n",
       "    <tr>\n",
       "      <th>4</th>\n",
       "      <td>Y</td>\n",
       "      <td>Y</td>\n",
       "      <td>2.0</td>\n",
       "      <td>BROOKLYN AVE &amp; PROSPECT PL</td>\n",
       "      <td>Brower Park</td>\n",
       "      <td>B012-03</td>\n",
       "      <td>B012</td>\n",
       "      <td>None</td>\n",
       "      <td>None</td>\n",
       "      <td>40.6744</td>\n",
       "      <td>-73.9432</td>\n",
       "      <td>St. Mark's Ave., Park Pl. bet. Brooklyn Ave. a...</td>\n",
       "      <td>Brower Park</td>\n",
       "      <td>11213</td>\n",
       "    </tr>\n",
       "  </tbody>\n",
       "</table>\n",
       "</div>"
      ],
      "text/plain": [
       "  Accessible Adaptive_Swing  Level              Playground_Location  \\\n",
       "0          Y              N    4.0  Noble, Franklin, Milton Streets   \n",
       "1          Y              N    4.0        BAY PKWY & CROPSEY AVENUE   \n",
       "2          Y              N    1.0          DUMONT AVE & BRISTOL ST   \n",
       "3          Y              N    2.0       BROOKLYN AVE & PROSPECT PL   \n",
       "4          Y              Y    2.0       BROOKLYN AVE & PROSPECT PL   \n",
       "\n",
       "                  Playground_Name Playground_ID Prop_ID School_ID Status  \\\n",
       "0             American Playground          B001    B001      None   None   \n",
       "1                Bensonhurst Park       B007-01    B007      None   None   \n",
       "2  Betsy Head Memorial Playground       B008-03    B008      None   None   \n",
       "3                     Brower Park       B012-02    B012      None   None   \n",
       "4                     Brower Park       B012-03    B012      None   None   \n",
       "\n",
       "       lat      lon                                      Park_Location  \\\n",
       "0  40.7288 -73.9579         Franklin St. bet. Milton St. and Noble St.   \n",
       "1  40.5969 -73.9998            Cropsey Ave. bet. 21 Ave. and Bay Pkwy.   \n",
       "2  40.6645 -73.9118  Blake Ave., Dumont Ave., Livonia Ave. bet. Str...   \n",
       "3  40.6735 -73.9438  St. Mark's Ave., Park Pl. bet. Brooklyn Ave. a...   \n",
       "4  40.6744 -73.9432  St. Mark's Ave., Park Pl. bet. Brooklyn Ave. a...   \n",
       "\n",
       "             Park_Name    Zip  \n",
       "0  American Playground  11222  \n",
       "1     Bensonhurst Park  11214  \n",
       "2      Betsy Head Park  11212  \n",
       "3          Brower Park  11213  \n",
       "4          Brower Park  11213  "
      ]
     },
     "execution_count": 14,
     "metadata": {},
     "output_type": "execute_result"
    }
   ],
   "source": [
    "playgrounds.rename(columns={'Name':'Playground_Name', 'Location':'Playground_Location'}, inplace=True)\n",
    "parks.rename(columns={'Name':'Park_Name', 'Location':'Park_Location'}, inplace=True)\n",
    "nyc_playgrounds = pd.merge(playgrounds, parks, how='left', on='Prop_ID')\n",
    "nyc_playgrounds.head()"
   ]
  },
  {
   "cell_type": "code",
   "execution_count": 15,
   "metadata": {},
   "outputs": [
    {
     "data": {
      "text/plain": [
       "Accessible                3\n",
       "Adaptive_Swing           97\n",
       "Level                    95\n",
       "Playground_Location       3\n",
       "Playground_Name           0\n",
       "Playground_ID           248\n",
       "Prop_ID                   0\n",
       "School_ID              1035\n",
       "Status                 1035\n",
       "lat                      24\n",
       "lon                      24\n",
       "Park_Location           260\n",
       "Park_Name               260\n",
       "Zip                     261\n",
       "dtype: int64"
      ]
     },
     "execution_count": 15,
     "metadata": {},
     "output_type": "execute_result"
    }
   ],
   "source": [
    "count_missing_values(nyc_playgrounds)"
   ]
  },
  {
   "cell_type": "markdown",
   "metadata": {},
   "source": [
    "## Consolidating Missing Zipcodes"
   ]
  },
  {
   "cell_type": "code",
   "execution_count": 16,
   "metadata": {},
   "outputs": [
    {
     "name": "stdout",
     "output_type": "stream",
     "text": [
      "21% of the dataset is missing zipcodes\n"
     ]
    }
   ],
   "source": [
    "print('{}% of the dataset is missing zipcodes'.format(round(\n",
    "    len(nyc_playgrounds[nyc_playgrounds.Zip.isna()])/len(nyc_playgrounds)*100)))\n"
   ]
  },
  {
   "cell_type": "markdown",
   "metadata": {},
   "source": [
    "It seems like many rows in the Playground_Location column contain a zipcode. Able to extract those zipcodes with regular expresion"
   ]
  },
  {
   "cell_type": "code",
   "execution_count": 17,
   "metadata": {},
   "outputs": [],
   "source": [
    "def find_zip_from_address(df):\n",
    "    df = df.copy() # prevent mutation to original dataframe\n",
    "    # Searches Playground_Location series for presence of a zipcode on rows where zip is missing\n",
    "    zipcodes = df[(df.Zip.isna())]['Playground_Location'].str.extract(r'(\\d{5})')\n",
    "    df.loc[(df.Zip.isna()),'Zip'] = zipcodes.values\n",
    "    return df\n",
    "\n",
    "    "
   ]
  },
  {
   "cell_type": "code",
   "execution_count": 18,
   "metadata": {},
   "outputs": [],
   "source": [
    "nyc_playgrounds = find_zip_from_address(nyc_playgrounds)"
   ]
  },
  {
   "cell_type": "code",
   "execution_count": 19,
   "metadata": {},
   "outputs": [
    {
     "name": "stdout",
     "output_type": "stream",
     "text": [
      "3% of the dataset is missing zipcodes now\n"
     ]
    }
   ],
   "source": [
    "print('{}% of the dataset is missing zipcodes now'.format(round(\n",
    "    len(nyc_playgrounds[nyc_playgrounds.Zip.isna()])/len(nyc_playgrounds)*100)))"
   ]
  },
  {
   "cell_type": "markdown",
   "metadata": {},
   "source": [
    "Of the 36 remaining playgrounds with missing zipcodes, 9 are missing coordinates, which could be a problem later"
   ]
  },
  {
   "cell_type": "code",
   "execution_count": 20,
   "metadata": {},
   "outputs": [
    {
     "data": {
      "text/plain": [
       "Accessible              0\n",
       "Adaptive_Swing          7\n",
       "Level                   7\n",
       "Playground_Location     0\n",
       "Playground_Name         0\n",
       "Playground_ID           9\n",
       "Prop_ID                 0\n",
       "School_ID              27\n",
       "Status                 27\n",
       "lat                     9\n",
       "lon                     9\n",
       "Park_Location          35\n",
       "Park_Name              35\n",
       "Zip                    36\n",
       "dtype: int64"
      ]
     },
     "execution_count": 20,
     "metadata": {},
     "output_type": "execute_result"
    }
   ],
   "source": [
    "count_missing_values(nyc_playgrounds[nyc_playgrounds.Zip.isna()])"
   ]
  },
  {
   "cell_type": "code",
   "execution_count": 21,
   "metadata": {
    "scrolled": false
   },
   "outputs": [],
   "source": [
    "nyc_playgrounds[nyc_playgrounds.Zip.isna()];"
   ]
  },
  {
   "cell_type": "markdown",
   "metadata": {},
   "source": [
    "### geopy"
   ]
  },
  {
   "cell_type": "markdown",
   "metadata": {},
   "source": [
    "Luckily, there are a few options for getting around this problem.\n",
    "\n",
    "Best practice would be to use a google maps python API, however due to API keys and the need for a billing account, it is not quite reproducible for the scope of this project. \n",
    "\n",
    "I alternatively found the __geopy__ [package](https://pypi.org/project/geopy/) which can convert coordinates to a zipcode, or a fuzzy address search (i.e. 'squibb park' or 'jay st nyc') to a zipcode. Install directions below\n",
    "\n",
    "`pip install geopy`\n"
   ]
  },
  {
   "cell_type": "code",
   "execution_count": 22,
   "metadata": {},
   "outputs": [],
   "source": [
    "from geopy.geocoders import Nominatim\n",
    "import re"
   ]
  },
  {
   "cell_type": "code",
   "execution_count": 23,
   "metadata": {},
   "outputs": [],
   "source": [
    "geolocator = Nominatim(user_agent=\"application\")"
   ]
  },
  {
   "cell_type": "code",
   "execution_count": 24,
   "metadata": {},
   "outputs": [],
   "source": [
    "def coord_to_zip(df, geolocator):\n",
    "    df = df.copy()\n",
    "    df2 = df.replace(np.NaN,-1)\n",
    "    df['Zip'] = df2.apply(_coord_to_zip, axis=1,args=(geolocator,))\n",
    "    return df\n",
    "\n",
    "def _coord_to_zip(row, geolocator):\n",
    "    if row['Zip'] != -1:#If zip is present, return zip as is\n",
    "        return row['Zip']\n",
    "    # Zip is missing:\n",
    "    if row['lat'] != -1.0: #If coordinates are present\n",
    "        coordinate_query = '{}, {}'.format(row['lat'], row['lon'])\n",
    "        return geolocator.reverse(coordinate_query).raw['address']['postcode'][:5]\n",
    "    else:\n",
    "        return np.NaN\n",
    "    "
   ]
  },
  {
   "cell_type": "markdown",
   "metadata": {},
   "source": [
    "### Converting coordinates to zipcodes for null zipcode entries"
   ]
  },
  {
   "cell_type": "code",
   "execution_count": 25,
   "metadata": {},
   "outputs": [
    {
     "data": {
      "text/plain": [
       "Accessible                3\n",
       "Adaptive_Swing           97\n",
       "Level                    95\n",
       "Playground_Location       3\n",
       "Playground_Name           0\n",
       "Playground_ID           248\n",
       "Prop_ID                   0\n",
       "School_ID              1035\n",
       "Status                 1035\n",
       "lat                      24\n",
       "lon                      24\n",
       "Park_Location           260\n",
       "Park_Name               260\n",
       "Zip                       9\n",
       "dtype: int64"
      ]
     },
     "execution_count": 25,
     "metadata": {},
     "output_type": "execute_result"
    }
   ],
   "source": [
    "nyc_playgrounds = coord_to_zip(nyc_playgrounds, geolocator)\n",
    "count_missing_values(nyc_playgrounds)"
   ]
  },
  {
   "cell_type": "code",
   "execution_count": 26,
   "metadata": {},
   "outputs": [
    {
     "name": "stdout",
     "output_type": "stream",
     "text": [
      "0.71% of the dataset is missing zipcodes now\n"
     ]
    }
   ],
   "source": [
    "print('{}% of the dataset is missing zipcodes now'.format(round(\n",
    "    len(nyc_playgrounds[nyc_playgrounds.Zip.isna()])/len(nyc_playgrounds)*100,2)))\n"
   ]
  },
  {
   "cell_type": "markdown",
   "metadata": {},
   "source": [
    "#### Dropping the remaining null zipcodes"
   ]
  },
  {
   "cell_type": "markdown",
   "metadata": {},
   "source": [
    "There are still 9 playgrounds missing zipcodes. I found that I could not depend on geophy's address search to return the proper zipcode (__address__ search, __not__ coordinate search), so dropping the remaining 0.71% of entries is the more scalable solution in this case since it is such a low percentage.\n",
    "\n",
    "If I were to use Google Maps API, I may be able to avoid this problem and create a scalable search base on park name, borough, and street addresses listed for those entries"
   ]
  },
  {
   "cell_type": "code",
   "execution_count": 27,
   "metadata": {},
   "outputs": [],
   "source": [
    "nyc_playgrounds = nyc_playgrounds[nyc_playgrounds.Zip.notnull()].reset_index(drop=True)\n"
   ]
  },
  {
   "cell_type": "code",
   "execution_count": 28,
   "metadata": {},
   "outputs": [
    {
     "data": {
      "text/plain": [
       "0"
      ]
     },
     "execution_count": 28,
     "metadata": {},
     "output_type": "execute_result"
    }
   ],
   "source": [
    "# Count rows with null values\n",
    "tax_returns_ny.isna().any(axis=1).sum()"
   ]
  },
  {
   "cell_type": "markdown",
   "metadata": {},
   "source": [
    "# Playgrounds with multiple zipcodes listed\n",
    "\n",
    "Is this a data entry error? \n",
    "\n",
    "- Approach 1: drop these columns\n",
    "- Approach 2: Create a row for each zip. Maybe the playground is considered to be accessible to all of the listed zipcodes? Found this method to be problematic when manually checking zipcode distances.\n",
    "- __Approach 3__ use the coordinates to determine 1 zipcode. Worried about a request limit from Geopy, but believe it might work. \n",
    "\n",
    "Worth testing Approach 1 vs. Approach 3 when looking for correlation between household income and playground availability, in case Geopy's coordinate search suffers from inaccuracies. `zipcode_testing.ipynb` was set up to empirically test geopy's coordinate accuracy, however due to request limits I have been unable to test with better confidence."
   ]
  },
  {
   "cell_type": "code",
   "execution_count": 29,
   "metadata": {},
   "outputs": [
    {
     "data": {
      "text/plain": [
       "0"
      ]
     },
     "execution_count": 29,
     "metadata": {},
     "output_type": "execute_result"
    }
   ],
   "source": [
    "nyc_playgrounds.dropna(axis=0, subset=['Zip'], inplace=True)\n",
    "nyc_playgrounds.reset_index(drop=True, inplace=True)\n",
    "# sanity check that all zipcodes are atleast 5 digits\n",
    "len(nyc_playgrounds[nyc_playgrounds.Zip.str.len() < 4])"
   ]
  },
  {
   "cell_type": "code",
   "execution_count": 30,
   "metadata": {
    "scrolled": true
   },
   "outputs": [
    {
     "name": "stdout",
     "output_type": "stream",
     "text": [
      "Entries with multiple zipcodes listed: 175\n"
     ]
    }
   ],
   "source": [
    "print('Entries with multiple zipcodes listed: {}'.format(\n",
    "    len(nyc_playgrounds[nyc_playgrounds.Zip.str.len() > 5])))"
   ]
  },
  {
   "cell_type": "code",
   "execution_count": 31,
   "metadata": {},
   "outputs": [],
   "source": [
    "def clean_bad_zips(row):\n",
    "    '''Filters out any zipcodes that are less than 5 digits from a list'''\n",
    "    return [zipcode.strip() for zipcode in row if len(zipcode.strip()) >= 5]\n",
    "\n",
    "# create a list transformation of the zipcodes present in the column\n",
    "nyc_playgrounds.Zip = nyc_playgrounds.Zip.str.split(',')\n",
    "# cleans out zipcodes that suffer from incorrect data entry\n",
    "nyc_playgrounds.Zip = nyc_playgrounds.Zip.apply(clean_bad_zips)"
   ]
  },
  {
   "cell_type": "markdown",
   "metadata": {},
   "source": [
    "### Some playgrounds list the same zip multiple times\n",
    "Will use a __set__ transformation to eliminate these"
   ]
  },
  {
   "cell_type": "code",
   "execution_count": 32,
   "metadata": {},
   "outputs": [
    {
     "data": {
      "text/html": [
       "<div>\n",
       "<style scoped>\n",
       "    .dataframe tbody tr th:only-of-type {\n",
       "        vertical-align: middle;\n",
       "    }\n",
       "\n",
       "    .dataframe tbody tr th {\n",
       "        vertical-align: top;\n",
       "    }\n",
       "\n",
       "    .dataframe thead th {\n",
       "        text-align: right;\n",
       "    }\n",
       "</style>\n",
       "<table border=\"1\" class=\"dataframe\">\n",
       "  <thead>\n",
       "    <tr style=\"text-align: right;\">\n",
       "      <th></th>\n",
       "      <th>Accessible</th>\n",
       "      <th>Adaptive_Swing</th>\n",
       "      <th>Level</th>\n",
       "      <th>Playground_Location</th>\n",
       "      <th>Playground_Name</th>\n",
       "      <th>Playground_ID</th>\n",
       "      <th>Prop_ID</th>\n",
       "      <th>School_ID</th>\n",
       "      <th>Status</th>\n",
       "      <th>lat</th>\n",
       "      <th>lon</th>\n",
       "      <th>Park_Location</th>\n",
       "      <th>Park_Name</th>\n",
       "      <th>Zip</th>\n",
       "    </tr>\n",
       "  </thead>\n",
       "  <tbody>\n",
       "    <tr>\n",
       "      <th>985</th>\n",
       "      <td>Y</td>\n",
       "      <td>N</td>\n",
       "      <td>2.0</td>\n",
       "      <td>Main and Plymouth streets</td>\n",
       "      <td>Brooklyn Bridge Park</td>\n",
       "      <td>B431</td>\n",
       "      <td>B431</td>\n",
       "      <td>None</td>\n",
       "      <td>None</td>\n",
       "      <td>40.7041</td>\n",
       "      <td>-73.9902</td>\n",
       "      <td>Furman St.,Water St. and John St. bet. Atlanti...</td>\n",
       "      <td>Brooklyn Bridge Park</td>\n",
       "      <td>[11201, 11201, 11201, 11201, 11201]</td>\n",
       "    </tr>\n",
       "  </tbody>\n",
       "</table>\n",
       "</div>"
      ],
      "text/plain": [
       "    Accessible Adaptive_Swing  Level        Playground_Location  \\\n",
       "985          Y              N    2.0  Main and Plymouth streets   \n",
       "\n",
       "          Playground_Name Playground_ID Prop_ID School_ID Status      lat  \\\n",
       "985  Brooklyn Bridge Park          B431    B431      None   None  40.7041   \n",
       "\n",
       "         lon                                      Park_Location  \\\n",
       "985 -73.9902  Furman St.,Water St. and John St. bet. Atlanti...   \n",
       "\n",
       "                Park_Name                                  Zip  \n",
       "985  Brooklyn Bridge Park  [11201, 11201, 11201, 11201, 11201]  "
      ]
     },
     "execution_count": 32,
     "metadata": {},
     "output_type": "execute_result"
    }
   ],
   "source": [
    "# Notice the 5 identical zipcodes in the zip columns\n",
    "nyc_playgrounds.loc[nyc_playgrounds['Playground_ID'] == 'B431']"
   ]
  },
  {
   "cell_type": "code",
   "execution_count": 33,
   "metadata": {},
   "outputs": [],
   "source": [
    "nyc_playgrounds.Zip = nyc_playgrounds.Zip.apply(set).apply(list)"
   ]
  },
  {
   "cell_type": "code",
   "execution_count": 34,
   "metadata": {
    "scrolled": true
   },
   "outputs": [
    {
     "data": {
      "text/html": [
       "<div>\n",
       "<style scoped>\n",
       "    .dataframe tbody tr th:only-of-type {\n",
       "        vertical-align: middle;\n",
       "    }\n",
       "\n",
       "    .dataframe tbody tr th {\n",
       "        vertical-align: top;\n",
       "    }\n",
       "\n",
       "    .dataframe thead th {\n",
       "        text-align: right;\n",
       "    }\n",
       "</style>\n",
       "<table border=\"1\" class=\"dataframe\">\n",
       "  <thead>\n",
       "    <tr style=\"text-align: right;\">\n",
       "      <th></th>\n",
       "      <th>Accessible</th>\n",
       "      <th>Adaptive_Swing</th>\n",
       "      <th>Level</th>\n",
       "      <th>Playground_Location</th>\n",
       "      <th>Playground_Name</th>\n",
       "      <th>Playground_ID</th>\n",
       "      <th>Prop_ID</th>\n",
       "      <th>School_ID</th>\n",
       "      <th>Status</th>\n",
       "      <th>lat</th>\n",
       "      <th>lon</th>\n",
       "      <th>Park_Location</th>\n",
       "      <th>Park_Name</th>\n",
       "      <th>Zip</th>\n",
       "    </tr>\n",
       "  </thead>\n",
       "  <tbody>\n",
       "    <tr>\n",
       "      <th>985</th>\n",
       "      <td>Y</td>\n",
       "      <td>N</td>\n",
       "      <td>2.0</td>\n",
       "      <td>Main and Plymouth streets</td>\n",
       "      <td>Brooklyn Bridge Park</td>\n",
       "      <td>B431</td>\n",
       "      <td>B431</td>\n",
       "      <td>None</td>\n",
       "      <td>None</td>\n",
       "      <td>40.7041</td>\n",
       "      <td>-73.9902</td>\n",
       "      <td>Furman St.,Water St. and John St. bet. Atlanti...</td>\n",
       "      <td>Brooklyn Bridge Park</td>\n",
       "      <td>[11201]</td>\n",
       "    </tr>\n",
       "  </tbody>\n",
       "</table>\n",
       "</div>"
      ],
      "text/plain": [
       "    Accessible Adaptive_Swing  Level        Playground_Location  \\\n",
       "985          Y              N    2.0  Main and Plymouth streets   \n",
       "\n",
       "          Playground_Name Playground_ID Prop_ID School_ID Status      lat  \\\n",
       "985  Brooklyn Bridge Park          B431    B431      None   None  40.7041   \n",
       "\n",
       "         lon                                      Park_Location  \\\n",
       "985 -73.9902  Furman St.,Water St. and John St. bet. Atlanti...   \n",
       "\n",
       "                Park_Name      Zip  \n",
       "985  Brooklyn Bridge Park  [11201]  "
      ]
     },
     "execution_count": 34,
     "metadata": {},
     "output_type": "execute_result"
    }
   ],
   "source": [
    "# Now there is only one zipcode instead of 5 identical zipcodes listed\n",
    "nyc_playgrounds.loc[nyc_playgrounds['Playground_ID'] == 'B431']"
   ]
  },
  {
   "cell_type": "markdown",
   "metadata": {},
   "source": [
    "### All entries with multiple zipcodes also have coordinates\n",
    "\n",
    "Can use geopy to find the proper zipcodes"
   ]
  },
  {
   "cell_type": "code",
   "execution_count": 35,
   "metadata": {},
   "outputs": [
    {
     "name": "stdout",
     "output_type": "stream",
     "text": [
      "Entries with multiple zipcodes listed: 165\n",
      "Entries with multiple zipcodes listed and coordinates: 165\n"
     ]
    }
   ],
   "source": [
    "print('Entries with multiple zipcodes listed: {}'.format(\n",
    "    len(nyc_playgrounds[nyc_playgrounds.Zip.apply(len) > 1])))\n",
    "\n",
    "# All entries have coordinates\n",
    "print('Entries with multiple zipcodes listed and coordinates: {}'.format(\n",
    "    len(nyc_playgrounds[(nyc_playgrounds.Zip.apply(len) > 1) & \n",
    "                (nyc_playgrounds.lat.notnull())])))"
   ]
  },
  {
   "cell_type": "code",
   "execution_count": 36,
   "metadata": {},
   "outputs": [],
   "source": [
    "import warnings\n",
    "warnings.filterwarnings('ignore')"
   ]
  },
  {
   "cell_type": "code",
   "execution_count": 37,
   "metadata": {},
   "outputs": [
    {
     "data": {
      "text/plain": [
       "Borough\n",
       "B    16\n",
       "M    58\n",
       "Q    37\n",
       "R    10\n",
       "X    44\n",
       "Name: counter, dtype: int64"
      ]
     },
     "execution_count": 37,
     "metadata": {},
     "output_type": "execute_result"
    }
   ],
   "source": [
    "testing_df = nyc_playgrounds[(nyc_playgrounds.Zip.apply(len) > 1) & \n",
    "                (nyc_playgrounds.lat.notnull())]\n",
    "testing_df.loc[:,'Borough'] = testing_df.Prop_ID.str.slice(0,1)\n",
    "testing_df.loc[:,'counter'] = [1]*len(testing_df)\n",
    "testing_df.groupby('Borough').count()['counter']"
   ]
  },
  {
   "cell_type": "markdown",
   "metadata": {},
   "source": [
    "Disproportionate number of parks with missing zips from each borough. Dropping these could likely be influential"
   ]
  },
  {
   "cell_type": "markdown",
   "metadata": {},
   "source": [
    "### Obtaining zipcodes from coordinates with Geopy"
   ]
  },
  {
   "cell_type": "code",
   "execution_count": 38,
   "metadata": {},
   "outputs": [],
   "source": [
    "def _coord_to_zip2(row, geolocator):\n",
    "    coordinate_query = '{}, {}'.format(row['lat'], row['lon'])\n",
    "    if geolocator.reverse(coordinate_query).raw:\n",
    "        try:\n",
    "            zipcode = geolocator.reverse(coordinate_query).raw['address']['postcode'][:5]\n",
    "            # additional check to ensure correct zipcode\n",
    "            if len(zipcode) == 5 and int(zipcode) < 20000:\n",
    "                return zipcode\n",
    "            else:\n",
    "                return np.NaN\n",
    "        except:\n",
    "            return np.NaN\n",
    "    else:\n",
    "        return np.NaN\n",
    "    "
   ]
  },
  {
   "cell_type": "code",
   "execution_count": 39,
   "metadata": {},
   "outputs": [],
   "source": [
    "nyc_playgrounds.loc[(nyc_playgrounds.Zip.apply(len)>1), 'zipcode_geopy'] \\\n",
    "    = nyc_playgrounds.loc[(nyc_playgrounds.Zip.apply(len)>1)].apply(\n",
    "        _coord_to_zip2, args=(geolocator,), axis=1)\n",
    "                                                                                                                                                   "
   ]
  },
  {
   "cell_type": "code",
   "execution_count": 40,
   "metadata": {},
   "outputs": [],
   "source": [
    "multi_zips = nyc_playgrounds.loc[(nyc_playgrounds.Zip.apply(len) > 1),:]"
   ]
  },
  {
   "cell_type": "code",
   "execution_count": 41,
   "metadata": {},
   "outputs": [
    {
     "data": {
      "text/plain": [
       "16"
      ]
     },
     "execution_count": 41,
     "metadata": {},
     "output_type": "execute_result"
    }
   ],
   "source": [
    "multi_zips['zipcode_geopy'].isna().sum()"
   ]
  },
  {
   "cell_type": "code",
   "execution_count": 42,
   "metadata": {},
   "outputs": [],
   "source": [
    "def zip_match(row):\n",
    "    '''Returns a Zipcode from zipcode_geopy column if it matches \n",
    "    a zip in the list of zipcodes for a given entry'''\n",
    "    A, B = set(row['Zip']), set([row['zipcode_geopy']])\n",
    "    if len(A.intersection(B)) == 1:\n",
    "        return row['zipcode_geopy']"
   ]
  },
  {
   "cell_type": "code",
   "execution_count": 43,
   "metadata": {},
   "outputs": [
    {
     "name": "stdout",
     "output_type": "stream",
     "text": [
      "63.03% of zipcodes from geopys coordinate search matched a listed zipcode\n"
     ]
    }
   ],
   "source": [
    "print('{}% of zipcodes from geopys coordinate search matched a listed zipcode'.format(\n",
    "    round(multi_zips.apply(zip_match, axis=1).notnull().sum()\n",
    "    /len(multi_zips)*100,2)))\n",
    "      "
   ]
  },
  {
   "cell_type": "markdown",
   "metadata": {},
   "source": [
    "This was a useful method to choose which zipcode to use from the list of zipcode for these playgrounds. I feel very confident using those zipcodes for those entries since they match up.\n",
    "\n",
    "There are still playgrounds left with multiple zipcodes. Are these incorrect, or is geopy incorrect? It seems to be a mix of both.\n",
    "\n",
    "This raises a larger data issue that should be addressed if there is more time. For now, I will arbitrarily choose the first zipcode in the list if there is no match between the list and geopy search"
   ]
  },
  {
   "cell_type": "markdown",
   "metadata": {},
   "source": [
    "### dataframe transformation"
   ]
  },
  {
   "cell_type": "code",
   "execution_count": 44,
   "metadata": {},
   "outputs": [],
   "source": [
    "def zip_match(row):\n",
    "    '''Returns a Zipcode from zipcode_geopy column if it matches \n",
    "    a zip in the list of zipcodes for a given entry'''\n",
    "    A, B = set(row['Zip']), set([row['zipcode_geopy']])\n",
    "    if len(A.intersection(B)) == 1:\n",
    "        return row['zipcode_geopy']\n",
    "    else:\n",
    "        return row['Zip'][0]"
   ]
  },
  {
   "cell_type": "code",
   "execution_count": 45,
   "metadata": {},
   "outputs": [],
   "source": [
    "nyc_playgrounds.loc[(nyc_playgrounds.Zip.apply(len)>1), 'Zip'] \\\n",
    "    = nyc_playgrounds.loc[(nyc_playgrounds.Zip.apply(len)>1)].apply(\n",
    "        zip_match, axis=1)"
   ]
  },
  {
   "cell_type": "code",
   "execution_count": 46,
   "metadata": {
    "scrolled": true
   },
   "outputs": [
    {
     "data": {
      "text/plain": [
       "0"
      ]
     },
     "execution_count": 46,
     "metadata": {},
     "output_type": "execute_result"
    }
   ],
   "source": [
    "nyc_playgrounds.Zip.isna().sum()"
   ]
  },
  {
   "cell_type": "code",
   "execution_count": 47,
   "metadata": {},
   "outputs": [],
   "source": [
    "nyc_playgrounds.Zip = nyc_playgrounds.Zip.apply(\n",
    "    lambda x: x[0] if len(x) == 1 else x)"
   ]
  },
  {
   "cell_type": "markdown",
   "metadata": {},
   "source": [
    "# Clean nyc_playgrounds dataframe\n",
    "\n",
    "The goal is to have have the number of playgrounds in each zipcode"
   ]
  },
  {
   "cell_type": "markdown",
   "metadata": {},
   "source": [
    "#### Create a Borough column"
   ]
  },
  {
   "cell_type": "code",
   "execution_count": 48,
   "metadata": {},
   "outputs": [],
   "source": [
    "def _dummy(df, column):\n",
    "    return pd.concat((df, pd.get_dummies(df[column], \n",
    "        prefix=column, drop_first=True)), axis=1).drop(column, axis=1)\n"
   ]
  },
  {
   "cell_type": "code",
   "execution_count": 49,
   "metadata": {},
   "outputs": [],
   "source": [
    "nyc_playgrounds.Zip = nyc_playgrounds.Zip.astype('int64')"
   ]
  },
  {
   "cell_type": "markdown",
   "metadata": {},
   "source": [
    "### Clean Accessible and Adaptive Swing columns"
   ]
  },
  {
   "cell_type": "code",
   "execution_count": 50,
   "metadata": {
    "scrolled": true
   },
   "outputs": [],
   "source": [
    "nyc_playgrounds['Adaptive_Swing'] = nyc_playgrounds['Adaptive_Swing'].replace({'':np.NaN})\n",
    "nyc_playgrounds['Accessible'] = nyc_playgrounds.Accessible.replace({'N':0, 'Y':1})\n",
    "nyc_playgrounds['Adaptive_Swing'] = nyc_playgrounds.Adaptive_Swing.replace({'N':0, 'Y':1})\n"
   ]
  },
  {
   "cell_type": "code",
   "execution_count": 51,
   "metadata": {},
   "outputs": [
    {
     "data": {
      "text/plain": [
       "97"
      ]
     },
     "execution_count": 51,
     "metadata": {},
     "output_type": "execute_result"
    }
   ],
   "source": [
    "nyc_playgrounds['Adaptive_Swing'].isna().sum()"
   ]
  },
  {
   "cell_type": "code",
   "execution_count": 52,
   "metadata": {},
   "outputs": [
    {
     "data": {
      "text/html": [
       "<div>\n",
       "<style scoped>\n",
       "    .dataframe tbody tr th:only-of-type {\n",
       "        vertical-align: middle;\n",
       "    }\n",
       "\n",
       "    .dataframe tbody tr th {\n",
       "        vertical-align: top;\n",
       "    }\n",
       "\n",
       "    .dataframe thead th {\n",
       "        text-align: right;\n",
       "    }\n",
       "</style>\n",
       "<table border=\"1\" class=\"dataframe\">\n",
       "  <thead>\n",
       "    <tr style=\"text-align: right;\">\n",
       "      <th></th>\n",
       "      <th>Accessible</th>\n",
       "      <th>Adaptive_Swing</th>\n",
       "      <th>Level</th>\n",
       "      <th>Playground_Location</th>\n",
       "      <th>Playground_Name</th>\n",
       "      <th>Playground_ID</th>\n",
       "      <th>Prop_ID</th>\n",
       "      <th>School_ID</th>\n",
       "      <th>Status</th>\n",
       "      <th>lat</th>\n",
       "      <th>lon</th>\n",
       "      <th>Park_Location</th>\n",
       "      <th>Park_Name</th>\n",
       "      <th>Zip</th>\n",
       "      <th>zipcode_geopy</th>\n",
       "    </tr>\n",
       "  </thead>\n",
       "  <tbody>\n",
       "  </tbody>\n",
       "</table>\n",
       "</div>"
      ],
      "text/plain": [
       "Empty DataFrame\n",
       "Columns: [Accessible, Adaptive_Swing, Level, Playground_Location, Playground_Name, Playground_ID, Prop_ID, School_ID, Status, lat, lon, Park_Location, Park_Name, Zip, zipcode_geopy]\n",
       "Index: []"
      ]
     },
     "execution_count": 52,
     "metadata": {},
     "output_type": "execute_result"
    }
   ],
   "source": [
    "nyc_playgrounds[(nyc_playgrounds['Accessible'].isna()) & \n",
    "                (nyc_playgrounds['Level'] > 0)]"
   ]
  },
  {
   "cell_type": "code",
   "execution_count": 53,
   "metadata": {},
   "outputs": [],
   "source": [
    "nyc_playgrounds['Accessible'].fillna(0, inplace=True)\n",
    "nyc_playgrounds['Adaptive_Swing'].fillna(0, inplace=True) "
   ]
  },
  {
   "cell_type": "markdown",
   "metadata": {},
   "source": [
    "# Clean School_ID\n",
    "\n",
    "Will create a boolean column to indicate if the playground is part of a school or not"
   ]
  },
  {
   "cell_type": "code",
   "execution_count": 54,
   "metadata": {},
   "outputs": [],
   "source": [
    "nyc_playgrounds['School_ID'].fillna(0,inplace=True)\n",
    "nyc_playgrounds['School'] = np.where(\n",
    "    nyc_playgrounds['School_ID'] != 0, 1, 0)"
   ]
  },
  {
   "cell_type": "markdown",
   "metadata": {},
   "source": [
    "# Clean Status Column"
   ]
  },
  {
   "cell_type": "code",
   "execution_count": 55,
   "metadata": {},
   "outputs": [
    {
     "name": "stdout",
     "output_type": "stream",
     "text": [
      "81.4% of entries in the Status Column have null values\n",
      "\n"
     ]
    }
   ],
   "source": [
    "print('{}% of entries in the Status Column have null values\\n'.format(\n",
    "    round(nyc_playgrounds.Status.isna().sum()/\n",
    "          len(nyc_playgrounds.Status)*100,1)))"
   ]
  },
  {
   "cell_type": "code",
   "execution_count": 56,
   "metadata": {},
   "outputs": [
    {
     "data": {
      "text/plain": [
       "array([None, 'open to the public', 'open to the public. north play',\n",
       "       'temporarily closed: sca projec', 'open to the public: two playgr',\n",
       "       'temporarily closed - sca proje', 'open to the public (further im',\n",
       "       'open to the public on weekdays', 'open to the public: enter on w',\n",
       "       'open weekends'], dtype=object)"
      ]
     },
     "execution_count": 56,
     "metadata": {},
     "output_type": "execute_result"
    }
   ],
   "source": [
    "nyc_playgrounds.Status = nyc_playgrounds.Status.str.lower()\n",
    "nyc_playgrounds.Status.unique()"
   ]
  },
  {
   "cell_type": "markdown",
   "metadata": {},
   "source": [
    "The majority of values are null so this column may not be very useful down the line. However, it might be reasonable to clean this column into categories such as 'two playgrounds', 'closed', 'weekends', 'weekdays', and 'open to the public'. "
   ]
  },
  {
   "cell_type": "code",
   "execution_count": 57,
   "metadata": {},
   "outputs": [],
   "source": [
    "nyc_playgrounds.Status.fillna('None', inplace=True)\n",
    "nyc_playgrounds.Status.loc[nyc_playgrounds['Status'].str.contains('closed')] = 'closed'\n",
    "nyc_playgrounds.Status.loc[nyc_playgrounds['Status'].str.contains('weekend')] = 'weekends'\n",
    "nyc_playgrounds.Status.loc[nyc_playgrounds['Status'].str.contains('weekday')] = 'weekdays'\n",
    "nyc_playgrounds.Status.loc[nyc_playgrounds['Status'].str.contains('two playgr')] = 'two playgrounds'\n",
    "nyc_playgrounds.Status.loc[nyc_playgrounds['Status'].str.contains('open to the public')] = 'open to the public'\n",
    "\n"
   ]
  },
  {
   "cell_type": "markdown",
   "metadata": {},
   "source": [
    "### Status indicates 2 playgrounds\n",
    "\n",
    "Important to investigate this, do the entries accurately reflect 2 playgrounds?"
   ]
  },
  {
   "cell_type": "code",
   "execution_count": 58,
   "metadata": {},
   "outputs": [
    {
     "data": {
      "text/html": [
       "<div>\n",
       "<style scoped>\n",
       "    .dataframe tbody tr th:only-of-type {\n",
       "        vertical-align: middle;\n",
       "    }\n",
       "\n",
       "    .dataframe tbody tr th {\n",
       "        vertical-align: top;\n",
       "    }\n",
       "\n",
       "    .dataframe thead th {\n",
       "        text-align: right;\n",
       "    }\n",
       "</style>\n",
       "<table border=\"1\" class=\"dataframe\">\n",
       "  <thead>\n",
       "    <tr style=\"text-align: right;\">\n",
       "      <th></th>\n",
       "      <th>Accessible</th>\n",
       "      <th>Adaptive_Swing</th>\n",
       "      <th>Level</th>\n",
       "      <th>Playground_Location</th>\n",
       "      <th>Playground_Name</th>\n",
       "      <th>Playground_ID</th>\n",
       "      <th>Prop_ID</th>\n",
       "      <th>School_ID</th>\n",
       "      <th>Status</th>\n",
       "      <th>lat</th>\n",
       "      <th>lon</th>\n",
       "      <th>Park_Location</th>\n",
       "      <th>Park_Name</th>\n",
       "      <th>Zip</th>\n",
       "      <th>zipcode_geopy</th>\n",
       "      <th>School</th>\n",
       "    </tr>\n",
       "  </thead>\n",
       "  <tbody>\n",
       "    <tr>\n",
       "      <th>1015</th>\n",
       "      <td>1.0</td>\n",
       "      <td>0.0</td>\n",
       "      <td>4.0</td>\n",
       "      <td>104 Sutter Avenue, Brooklyn, NY 11212</td>\n",
       "      <td>IS 392K</td>\n",
       "      <td>None</td>\n",
       "      <td>B</td>\n",
       "      <td>K356</td>\n",
       "      <td>two playgrounds</td>\n",
       "      <td>40.6658</td>\n",
       "      <td>-73.9178</td>\n",
       "      <td>NaN</td>\n",
       "      <td>NaN</td>\n",
       "      <td>11212</td>\n",
       "      <td>NaN</td>\n",
       "      <td>1</td>\n",
       "    </tr>\n",
       "    <tr>\n",
       "      <th>1112</th>\n",
       "      <td>1.0</td>\n",
       "      <td>0.0</td>\n",
       "      <td>4.0</td>\n",
       "      <td>88 Woodbine Street, Brooklyn, NY 11221</td>\n",
       "      <td>PS 299K</td>\n",
       "      <td>None</td>\n",
       "      <td>B</td>\n",
       "      <td>K299</td>\n",
       "      <td>two playgrounds</td>\n",
       "      <td>40.6906</td>\n",
       "      <td>-73.9180</td>\n",
       "      <td>NaN</td>\n",
       "      <td>NaN</td>\n",
       "      <td>11221</td>\n",
       "      <td>NaN</td>\n",
       "      <td>1</td>\n",
       "    </tr>\n",
       "    <tr>\n",
       "      <th>1180</th>\n",
       "      <td>1.0</td>\n",
       "      <td>0.0</td>\n",
       "      <td>4.0</td>\n",
       "      <td>216 Clawson Street, Staten Island, NY</td>\n",
       "      <td>PS 41R</td>\n",
       "      <td>None</td>\n",
       "      <td>R</td>\n",
       "      <td>R041</td>\n",
       "      <td>two playgrounds</td>\n",
       "      <td>40.5737</td>\n",
       "      <td>-74.1085</td>\n",
       "      <td>NaN</td>\n",
       "      <td>NaN</td>\n",
       "      <td>10306</td>\n",
       "      <td>NaN</td>\n",
       "      <td>1</td>\n",
       "    </tr>\n",
       "  </tbody>\n",
       "</table>\n",
       "</div>"
      ],
      "text/plain": [
       "      Accessible  Adaptive_Swing  Level  \\\n",
       "1015         1.0             0.0    4.0   \n",
       "1112         1.0             0.0    4.0   \n",
       "1180         1.0             0.0    4.0   \n",
       "\n",
       "                         Playground_Location Playground_Name Playground_ID  \\\n",
       "1015   104 Sutter Avenue, Brooklyn, NY 11212         IS 392K          None   \n",
       "1112  88 Woodbine Street, Brooklyn, NY 11221         PS 299K          None   \n",
       "1180   216 Clawson Street, Staten Island, NY          PS 41R          None   \n",
       "\n",
       "     Prop_ID School_ID           Status      lat      lon Park_Location  \\\n",
       "1015       B      K356  two playgrounds  40.6658 -73.9178           NaN   \n",
       "1112       B      K299  two playgrounds  40.6906 -73.9180           NaN   \n",
       "1180       R      R041  two playgrounds  40.5737 -74.1085           NaN   \n",
       "\n",
       "     Park_Name    Zip zipcode_geopy  School  \n",
       "1015       NaN  11212           NaN       1  \n",
       "1112       NaN  11221           NaN       1  \n",
       "1180       NaN  10306           NaN       1  "
      ]
     },
     "execution_count": 58,
     "metadata": {},
     "output_type": "execute_result"
    }
   ],
   "source": [
    "nyc_playgrounds[nyc_playgrounds['Status'] == 'two playgrounds']"
   ]
  },
  {
   "cell_type": "code",
   "execution_count": 59,
   "metadata": {},
   "outputs": [
    {
     "data": {
      "text/html": [
       "<div>\n",
       "<style scoped>\n",
       "    .dataframe tbody tr th:only-of-type {\n",
       "        vertical-align: middle;\n",
       "    }\n",
       "\n",
       "    .dataframe tbody tr th {\n",
       "        vertical-align: top;\n",
       "    }\n",
       "\n",
       "    .dataframe thead th {\n",
       "        text-align: right;\n",
       "    }\n",
       "</style>\n",
       "<table border=\"1\" class=\"dataframe\">\n",
       "  <thead>\n",
       "    <tr style=\"text-align: right;\">\n",
       "      <th></th>\n",
       "      <th>Accessible</th>\n",
       "      <th>Adaptive_Swing</th>\n",
       "      <th>Level</th>\n",
       "      <th>Playground_Location</th>\n",
       "      <th>Playground_Name</th>\n",
       "      <th>Playground_ID</th>\n",
       "      <th>Prop_ID</th>\n",
       "      <th>School_ID</th>\n",
       "      <th>Status</th>\n",
       "      <th>lat</th>\n",
       "      <th>lon</th>\n",
       "      <th>Park_Location</th>\n",
       "      <th>Park_Name</th>\n",
       "      <th>Zip</th>\n",
       "      <th>zipcode_geopy</th>\n",
       "      <th>School</th>\n",
       "    </tr>\n",
       "  </thead>\n",
       "  <tbody>\n",
       "    <tr>\n",
       "      <th>1180</th>\n",
       "      <td>1.0</td>\n",
       "      <td>0.0</td>\n",
       "      <td>4.0</td>\n",
       "      <td>216 Clawson Street, Staten Island, NY</td>\n",
       "      <td>PS 41R</td>\n",
       "      <td>None</td>\n",
       "      <td>R</td>\n",
       "      <td>R041</td>\n",
       "      <td>two playgrounds</td>\n",
       "      <td>40.5737</td>\n",
       "      <td>-74.1085</td>\n",
       "      <td>NaN</td>\n",
       "      <td>NaN</td>\n",
       "      <td>10306</td>\n",
       "      <td>NaN</td>\n",
       "      <td>1</td>\n",
       "    </tr>\n",
       "  </tbody>\n",
       "</table>\n",
       "</div>"
      ],
      "text/plain": [
       "      Accessible  Adaptive_Swing  Level  \\\n",
       "1180         1.0             0.0    4.0   \n",
       "\n",
       "                        Playground_Location Playground_Name Playground_ID  \\\n",
       "1180  216 Clawson Street, Staten Island, NY          PS 41R          None   \n",
       "\n",
       "     Prop_ID School_ID           Status      lat      lon Park_Location  \\\n",
       "1180       R      R041  two playgrounds  40.5737 -74.1085           NaN   \n",
       "\n",
       "     Park_Name    Zip zipcode_geopy  School  \n",
       "1180       NaN  10306           NaN       1  "
      ]
     },
     "execution_count": 59,
     "metadata": {},
     "output_type": "execute_result"
    }
   ],
   "source": [
    "# How is this reflected in the dataframe? with 1 entry or 2?\n",
    "nyc_playgrounds[nyc_playgrounds.School_ID == 'R041']"
   ]
  },
  {
   "cell_type": "markdown",
   "metadata": {},
   "source": [
    "It seems like these entries with a status indicating 2 playgrounds should be transformed so that each zipcode will have an accurate representation of the number of playgrounds"
   ]
  },
  {
   "cell_type": "markdown",
   "metadata": {},
   "source": [
    "However, after manually checking these addresses on Google maps satellite image view, it raises the question: \n",
    "\n",
    "Should two playground sets directly next to eachother on the same property count as two different playgrounds for the scope of this project? All 3 entries that include the string 'two playgr' in the Status column look similar to the image below:"
   ]
  },
  {
   "cell_type": "markdown",
   "metadata": {},
   "source": [
    "<img src='img/img1.png'>"
   ]
  },
  {
   "cell_type": "markdown",
   "metadata": {},
   "source": [
    "In terms of the psychological feel of this, would a local resident feel as if they had an extra playground accessible to them in their neighboorhood? Most likely not.\n",
    "\n",
    "Considering only 3 playgrounds contain this string, and there are inconsistency issues with strings in this column, transforming these 3 entries to reflect 2 playgrounds each may not be a scalable approach long-term. For this reason I will not representing these entries as 2 playgrounds each in my dataset"
   ]
  },
  {
   "cell_type": "markdown",
   "metadata": {},
   "source": [
    "# Investigating the relationship between Playgrounds at schools and Status column\n",
    "\n",
    "Playgrounds located at schools are not open while the school is in session, which makes them less available to local residents. This is important to be represented in the dataframe"
   ]
  },
  {
   "cell_type": "code",
   "execution_count": 60,
   "metadata": {},
   "outputs": [
    {
     "data": {
      "text/html": [
       "<div>\n",
       "<style scoped>\n",
       "    .dataframe tbody tr th:only-of-type {\n",
       "        vertical-align: middle;\n",
       "    }\n",
       "\n",
       "    .dataframe tbody tr th {\n",
       "        vertical-align: top;\n",
       "    }\n",
       "\n",
       "    .dataframe thead th {\n",
       "        text-align: right;\n",
       "    }\n",
       "</style>\n",
       "<table border=\"1\" class=\"dataframe\">\n",
       "  <thead>\n",
       "    <tr style=\"text-align: right;\">\n",
       "      <th></th>\n",
       "      <th>Accessible</th>\n",
       "      <th>Adaptive_Swing</th>\n",
       "      <th>Level</th>\n",
       "      <th>Playground_Location</th>\n",
       "      <th>Playground_Name</th>\n",
       "      <th>Playground_ID</th>\n",
       "      <th>Prop_ID</th>\n",
       "      <th>School_ID</th>\n",
       "      <th>Status</th>\n",
       "      <th>lat</th>\n",
       "      <th>lon</th>\n",
       "      <th>Park_Location</th>\n",
       "      <th>Park_Name</th>\n",
       "      <th>Zip</th>\n",
       "      <th>zipcode_geopy</th>\n",
       "      <th>School</th>\n",
       "    </tr>\n",
       "  </thead>\n",
       "  <tbody>\n",
       "  </tbody>\n",
       "</table>\n",
       "</div>"
      ],
      "text/plain": [
       "Empty DataFrame\n",
       "Columns: [Accessible, Adaptive_Swing, Level, Playground_Location, Playground_Name, Playground_ID, Prop_ID, School_ID, Status, lat, lon, Park_Location, Park_Name, Zip, zipcode_geopy, School]\n",
       "Index: []"
      ]
     },
     "execution_count": 60,
     "metadata": {},
     "output_type": "execute_result"
    }
   ],
   "source": [
    "# Are there any Statuses when a School is not specified?\n",
    "nyc_playgrounds[(nyc_playgrounds.School == 0) & \n",
    "                (nyc_playgrounds.Status != 'None')]"
   ]
  },
  {
   "cell_type": "code",
   "execution_count": 61,
   "metadata": {},
   "outputs": [
    {
     "data": {
      "text/plain": [
       "234"
      ]
     },
     "execution_count": 61,
     "metadata": {},
     "output_type": "execute_result"
    }
   ],
   "source": [
    "nyc_playgrounds.Status[(nyc_playgrounds.School != 0) & \n",
    "                       (nyc_playgrounds.Status != 'None')].count()"
   ]
  },
  {
   "cell_type": "markdown",
   "metadata": {},
   "source": [
    "Interestingly enough, the status column is only applicable to playgrounds located on school property"
   ]
  },
  {
   "cell_type": "code",
   "execution_count": 62,
   "metadata": {},
   "outputs": [],
   "source": [
    "nyc_playgrounds = _dummy(nyc_playgrounds, 'Status')"
   ]
  },
  {
   "cell_type": "markdown",
   "metadata": {},
   "source": [
    "# Clean Level column"
   ]
  },
  {
   "cell_type": "markdown",
   "metadata": {},
   "source": [
    "To make this scalable, if accessible = 0, fillna(0), else fillna(1).\n",
    "Filling null values with 1 does add some bias, however it is a very low percentage of the entries"
   ]
  },
  {
   "cell_type": "code",
   "execution_count": 63,
   "metadata": {},
   "outputs": [
    {
     "data": {
      "text/plain": [
       "0"
      ]
     },
     "execution_count": 63,
     "metadata": {},
     "output_type": "execute_result"
    }
   ],
   "source": [
    "# Sanity check. If park isn't accessible, its level shouldn't be > 0\n",
    "len(nyc_playgrounds[(nyc_playgrounds['Level'] > 0.0) &\n",
    "                (nyc_playgrounds.Accessible == 0.0)])"
   ]
  },
  {
   "cell_type": "code",
   "execution_count": 64,
   "metadata": {},
   "outputs": [],
   "source": [
    "nyc_playgrounds.Level.loc[nyc_playgrounds['Accessible'] == 0.0] \\\n",
    "    = nyc_playgrounds.Level[nyc_playgrounds['Accessible'] == 0.0].fillna(0)\n"
   ]
  },
  {
   "cell_type": "code",
   "execution_count": 65,
   "metadata": {},
   "outputs": [
    {
     "data": {
      "text/html": [
       "<div>\n",
       "<style scoped>\n",
       "    .dataframe tbody tr th:only-of-type {\n",
       "        vertical-align: middle;\n",
       "    }\n",
       "\n",
       "    .dataframe tbody tr th {\n",
       "        vertical-align: top;\n",
       "    }\n",
       "\n",
       "    .dataframe thead th {\n",
       "        text-align: right;\n",
       "    }\n",
       "</style>\n",
       "<table border=\"1\" class=\"dataframe\">\n",
       "  <thead>\n",
       "    <tr style=\"text-align: right;\">\n",
       "      <th></th>\n",
       "      <th>Accessible</th>\n",
       "      <th>Adaptive_Swing</th>\n",
       "      <th>Level</th>\n",
       "      <th>Playground_Location</th>\n",
       "      <th>Playground_Name</th>\n",
       "      <th>Playground_ID</th>\n",
       "      <th>Prop_ID</th>\n",
       "      <th>School_ID</th>\n",
       "      <th>lat</th>\n",
       "      <th>lon</th>\n",
       "      <th>Park_Location</th>\n",
       "      <th>Park_Name</th>\n",
       "      <th>Zip</th>\n",
       "      <th>zipcode_geopy</th>\n",
       "      <th>School</th>\n",
       "      <th>Status_closed</th>\n",
       "      <th>Status_open to the public</th>\n",
       "      <th>Status_two playgrounds</th>\n",
       "      <th>Status_weekdays</th>\n",
       "      <th>Status_weekends</th>\n",
       "    </tr>\n",
       "  </thead>\n",
       "  <tbody>\n",
       "    <tr>\n",
       "      <th>1231</th>\n",
       "      <td>1.0</td>\n",
       "      <td>0.0</td>\n",
       "      <td>NaN</td>\n",
       "      <td>Kent Ave. between N. 9 St. and N. 12 St.</td>\n",
       "      <td>Bushwick Inlet Park</td>\n",
       "      <td>None</td>\n",
       "      <td>B529</td>\n",
       "      <td>0</td>\n",
       "      <td>40.7218</td>\n",
       "      <td>-73.9615</td>\n",
       "      <td>Kent Ave. bet. Quay St. and N 9 St.</td>\n",
       "      <td>Bushwick Inlet Park</td>\n",
       "      <td>11211</td>\n",
       "      <td>NaN</td>\n",
       "      <td>0</td>\n",
       "      <td>0</td>\n",
       "      <td>0</td>\n",
       "      <td>0</td>\n",
       "      <td>0</td>\n",
       "      <td>0</td>\n",
       "    </tr>\n",
       "    <tr>\n",
       "      <th>1245</th>\n",
       "      <td>1.0</td>\n",
       "      <td>0.0</td>\n",
       "      <td>NaN</td>\n",
       "      <td>Murray Ave, Jarman Rd, Sylvester Ln, Abbot Rd</td>\n",
       "      <td>Fort Totten Playground</td>\n",
       "      <td>Q458</td>\n",
       "      <td>Q458</td>\n",
       "      <td>0</td>\n",
       "      <td>40.7941</td>\n",
       "      <td>-73.7780</td>\n",
       "      <td>Cross Island Pkwy. bet. Totten Ave. and 15 Rd.</td>\n",
       "      <td>Fort Totten Park</td>\n",
       "      <td>11359</td>\n",
       "      <td>NaN</td>\n",
       "      <td>0</td>\n",
       "      <td>0</td>\n",
       "      <td>0</td>\n",
       "      <td>0</td>\n",
       "      <td>0</td>\n",
       "      <td>0</td>\n",
       "    </tr>\n",
       "    <tr>\n",
       "      <th>1247</th>\n",
       "      <td>1.0</td>\n",
       "      <td>0.0</td>\n",
       "      <td>NaN</td>\n",
       "      <td>55th Dr &amp; Borden Ave</td>\n",
       "      <td>Copernicus Triangle</td>\n",
       "      <td>QT05</td>\n",
       "      <td>QT05</td>\n",
       "      <td>0</td>\n",
       "      <td>40.7259</td>\n",
       "      <td>-73.9057</td>\n",
       "      <td>60 St. bet. Borden Ave. and 55 Dr.</td>\n",
       "      <td>Copernicus Triangle</td>\n",
       "      <td>11378</td>\n",
       "      <td>NaN</td>\n",
       "      <td>0</td>\n",
       "      <td>0</td>\n",
       "      <td>0</td>\n",
       "      <td>0</td>\n",
       "      <td>0</td>\n",
       "      <td>0</td>\n",
       "    </tr>\n",
       "  </tbody>\n",
       "</table>\n",
       "</div>"
      ],
      "text/plain": [
       "      Accessible  Adaptive_Swing  Level  \\\n",
       "1231         1.0             0.0    NaN   \n",
       "1245         1.0             0.0    NaN   \n",
       "1247         1.0             0.0    NaN   \n",
       "\n",
       "                                Playground_Location         Playground_Name  \\\n",
       "1231       Kent Ave. between N. 9 St. and N. 12 St.     Bushwick Inlet Park   \n",
       "1245  Murray Ave, Jarman Rd, Sylvester Ln, Abbot Rd  Fort Totten Playground   \n",
       "1247                           55th Dr & Borden Ave     Copernicus Triangle   \n",
       "\n",
       "     Playground_ID Prop_ID School_ID      lat      lon  \\\n",
       "1231          None    B529         0  40.7218 -73.9615   \n",
       "1245          Q458    Q458         0  40.7941 -73.7780   \n",
       "1247          QT05    QT05         0  40.7259 -73.9057   \n",
       "\n",
       "                                       Park_Location            Park_Name  \\\n",
       "1231             Kent Ave. bet. Quay St. and N 9 St.  Bushwick Inlet Park   \n",
       "1245  Cross Island Pkwy. bet. Totten Ave. and 15 Rd.     Fort Totten Park   \n",
       "1247              60 St. bet. Borden Ave. and 55 Dr.  Copernicus Triangle   \n",
       "\n",
       "        Zip zipcode_geopy  School  Status_closed  Status_open to the public  \\\n",
       "1231  11211           NaN       0              0                          0   \n",
       "1245  11359           NaN       0              0                          0   \n",
       "1247  11378           NaN       0              0                          0   \n",
       "\n",
       "      Status_two playgrounds  Status_weekdays  Status_weekends  \n",
       "1231                       0                0                0  \n",
       "1245                       0                0                0  \n",
       "1247                       0                0                0  "
      ]
     },
     "execution_count": 65,
     "metadata": {},
     "output_type": "execute_result"
    }
   ],
   "source": [
    "nyc_playgrounds[nyc_playgrounds['Level'].isna()]"
   ]
  },
  {
   "cell_type": "code",
   "execution_count": 66,
   "metadata": {
    "scrolled": true
   },
   "outputs": [],
   "source": [
    "nyc_playgrounds['Level'].fillna(1, inplace=True)"
   ]
  },
  {
   "cell_type": "code",
   "execution_count": 67,
   "metadata": {},
   "outputs": [],
   "source": [
    "nyc_playgrounds = _dummy(nyc_playgrounds, 'Level')"
   ]
  },
  {
   "cell_type": "markdown",
   "metadata": {},
   "source": [
    "# Transform the dataset: grouping by zipcode"
   ]
  },
  {
   "cell_type": "markdown",
   "metadata": {},
   "source": [
    "### Dropping incompatible columns"
   ]
  },
  {
   "cell_type": "code",
   "execution_count": 68,
   "metadata": {},
   "outputs": [],
   "source": [
    "nyc_playgrounds.drop(\n",
    "    nyc_playgrounds.select_dtypes(include=['object']).columns.tolist(), \n",
    "    axis=1,inplace=True)"
   ]
  },
  {
   "cell_type": "code",
   "execution_count": 69,
   "metadata": {},
   "outputs": [],
   "source": [
    "nyc_playgrounds.drop(['lat', 'lon'], axis=1, inplace=True)"
   ]
  },
  {
   "cell_type": "code",
   "execution_count": 70,
   "metadata": {},
   "outputs": [],
   "source": [
    "nyc_playgrounds['playground_count'] = [1]*len(nyc_playgrounds)"
   ]
  },
  {
   "cell_type": "code",
   "execution_count": 71,
   "metadata": {},
   "outputs": [],
   "source": [
    "nyc_playgrounds = nyc_playgrounds.groupby('Zip').sum().reset_index()"
   ]
  },
  {
   "cell_type": "code",
   "execution_count": 72,
   "metadata": {},
   "outputs": [
    {
     "data": {
      "text/html": [
       "<div>\n",
       "<style scoped>\n",
       "    .dataframe tbody tr th:only-of-type {\n",
       "        vertical-align: middle;\n",
       "    }\n",
       "\n",
       "    .dataframe tbody tr th {\n",
       "        vertical-align: top;\n",
       "    }\n",
       "\n",
       "    .dataframe thead th {\n",
       "        text-align: right;\n",
       "    }\n",
       "</style>\n",
       "<table border=\"1\" class=\"dataframe\">\n",
       "  <thead>\n",
       "    <tr style=\"text-align: right;\">\n",
       "      <th></th>\n",
       "      <th>Zip</th>\n",
       "      <th>Accessible</th>\n",
       "      <th>Adaptive_Swing</th>\n",
       "      <th>School</th>\n",
       "      <th>Status_closed</th>\n",
       "      <th>Status_open to the public</th>\n",
       "      <th>Status_two playgrounds</th>\n",
       "      <th>Status_weekdays</th>\n",
       "      <th>Status_weekends</th>\n",
       "      <th>Level_1.0</th>\n",
       "      <th>Level_2.0</th>\n",
       "      <th>Level_3.0</th>\n",
       "      <th>Level_4.0</th>\n",
       "      <th>playground_count</th>\n",
       "    </tr>\n",
       "  </thead>\n",
       "  <tbody>\n",
       "    <tr>\n",
       "      <th>0</th>\n",
       "      <td>10001</td>\n",
       "      <td>2.0</td>\n",
       "      <td>1.0</td>\n",
       "      <td>0</td>\n",
       "      <td>0</td>\n",
       "      <td>0</td>\n",
       "      <td>0</td>\n",
       "      <td>0</td>\n",
       "      <td>0</td>\n",
       "      <td>0</td>\n",
       "      <td>0</td>\n",
       "      <td>0</td>\n",
       "      <td>2</td>\n",
       "      <td>3</td>\n",
       "    </tr>\n",
       "    <tr>\n",
       "      <th>1</th>\n",
       "      <td>10002</td>\n",
       "      <td>22.0</td>\n",
       "      <td>4.0</td>\n",
       "      <td>1</td>\n",
       "      <td>0</td>\n",
       "      <td>1</td>\n",
       "      <td>0</td>\n",
       "      <td>0</td>\n",
       "      <td>0</td>\n",
       "      <td>0</td>\n",
       "      <td>11</td>\n",
       "      <td>1</td>\n",
       "      <td>10</td>\n",
       "      <td>23</td>\n",
       "    </tr>\n",
       "    <tr>\n",
       "      <th>2</th>\n",
       "      <td>10003</td>\n",
       "      <td>4.0</td>\n",
       "      <td>2.0</td>\n",
       "      <td>0</td>\n",
       "      <td>0</td>\n",
       "      <td>0</td>\n",
       "      <td>0</td>\n",
       "      <td>0</td>\n",
       "      <td>0</td>\n",
       "      <td>0</td>\n",
       "      <td>2</td>\n",
       "      <td>2</td>\n",
       "      <td>0</td>\n",
       "      <td>4</td>\n",
       "    </tr>\n",
       "    <tr>\n",
       "      <th>3</th>\n",
       "      <td>10007</td>\n",
       "      <td>2.0</td>\n",
       "      <td>1.0</td>\n",
       "      <td>0</td>\n",
       "      <td>0</td>\n",
       "      <td>0</td>\n",
       "      <td>0</td>\n",
       "      <td>0</td>\n",
       "      <td>0</td>\n",
       "      <td>0</td>\n",
       "      <td>0</td>\n",
       "      <td>1</td>\n",
       "      <td>1</td>\n",
       "      <td>3</td>\n",
       "    </tr>\n",
       "    <tr>\n",
       "      <th>4</th>\n",
       "      <td>10009</td>\n",
       "      <td>7.0</td>\n",
       "      <td>1.0</td>\n",
       "      <td>0</td>\n",
       "      <td>0</td>\n",
       "      <td>0</td>\n",
       "      <td>0</td>\n",
       "      <td>0</td>\n",
       "      <td>0</td>\n",
       "      <td>0</td>\n",
       "      <td>0</td>\n",
       "      <td>1</td>\n",
       "      <td>6</td>\n",
       "      <td>7</td>\n",
       "    </tr>\n",
       "  </tbody>\n",
       "</table>\n",
       "</div>"
      ],
      "text/plain": [
       "     Zip  Accessible  Adaptive_Swing  School  Status_closed  \\\n",
       "0  10001         2.0             1.0       0              0   \n",
       "1  10002        22.0             4.0       1              0   \n",
       "2  10003         4.0             2.0       0              0   \n",
       "3  10007         2.0             1.0       0              0   \n",
       "4  10009         7.0             1.0       0              0   \n",
       "\n",
       "   Status_open to the public  Status_two playgrounds  Status_weekdays  \\\n",
       "0                          0                       0                0   \n",
       "1                          1                       0                0   \n",
       "2                          0                       0                0   \n",
       "3                          0                       0                0   \n",
       "4                          0                       0                0   \n",
       "\n",
       "   Status_weekends  Level_1.0  Level_2.0  Level_3.0  Level_4.0  \\\n",
       "0                0          0          0          0          2   \n",
       "1                0          0         11          1         10   \n",
       "2                0          0          2          2          0   \n",
       "3                0          0          0          1          1   \n",
       "4                0          0          0          1          6   \n",
       "\n",
       "   playground_count  \n",
       "0                 3  \n",
       "1                23  \n",
       "2                 4  \n",
       "3                 3  \n",
       "4                 7  "
      ]
     },
     "execution_count": 72,
     "metadata": {},
     "output_type": "execute_result"
    }
   ],
   "source": [
    "nyc_playgrounds.head()"
   ]
  },
  {
   "cell_type": "markdown",
   "metadata": {},
   "source": [
    "# Merging playground data with shapefile data"
   ]
  },
  {
   "cell_type": "markdown",
   "metadata": {},
   "source": [
    "https://data.cityofnewyork.us/widgets/i8iw-xf4u\n",
    "https://data.cityofnewyork.us/City-Government/Parks-Zones/rjaj-zgq7\n",
    "\n",
    "`pip install geopandas`\n",
    "\n",
    "`pip install descartes`"
   ]
  },
  {
   "cell_type": "code",
   "execution_count": 73,
   "metadata": {},
   "outputs": [],
   "source": [
    "zipcode_shape_data = gp.read_file(\n",
    "    '../data/ZIP_CODE_040114 (3)/ZIP_CODE_040114.shp')\\\n",
    "    .to_crs(epsg=4326) # to_crs converts the coordinate system to familiar form\n"
   ]
  },
  {
   "cell_type": "code",
   "execution_count": 74,
   "metadata": {},
   "outputs": [
    {
     "name": "stdout",
     "output_type": "stream",
     "text": [
      "There are 248 total zipcodes in NYC\n"
     ]
    }
   ],
   "source": [
    "print('There are {} total zipcodes in NYC'.format(\n",
    "    len(zipcode_shape_data['ZIPCODE'].unique())))"
   ]
  },
  {
   "cell_type": "code",
   "execution_count": 75,
   "metadata": {},
   "outputs": [],
   "source": [
    "county_borough_map = {'Kings':'B', \n",
    " 'New York':'M', \n",
    " 'Richmond':'R',\n",
    "'Queens':'Q',\n",
    "'Bronx':'X'}"
   ]
  },
  {
   "cell_type": "code",
   "execution_count": 76,
   "metadata": {},
   "outputs": [],
   "source": [
    "zipcode_shape_data['Borough'] = zipcode_shape_data['COUNTY'].map(county_borough_map)"
   ]
  },
  {
   "cell_type": "code",
   "execution_count": 77,
   "metadata": {},
   "outputs": [
    {
     "data": {
      "text/html": [
       "<div>\n",
       "<style scoped>\n",
       "    .dataframe tbody tr th:only-of-type {\n",
       "        vertical-align: middle;\n",
       "    }\n",
       "\n",
       "    .dataframe tbody tr th {\n",
       "        vertical-align: top;\n",
       "    }\n",
       "\n",
       "    .dataframe thead th {\n",
       "        text-align: right;\n",
       "    }\n",
       "</style>\n",
       "<table border=\"1\" class=\"dataframe\">\n",
       "  <thead>\n",
       "    <tr style=\"text-align: right;\">\n",
       "      <th></th>\n",
       "      <th>ZIPCODE</th>\n",
       "      <th>BLDGZIP</th>\n",
       "      <th>PO_NAME</th>\n",
       "      <th>POPULATION</th>\n",
       "      <th>AREA</th>\n",
       "      <th>STATE</th>\n",
       "      <th>COUNTY</th>\n",
       "      <th>ST_FIPS</th>\n",
       "      <th>CTY_FIPS</th>\n",
       "      <th>URL</th>\n",
       "      <th>SHAPE_AREA</th>\n",
       "      <th>SHAPE_LEN</th>\n",
       "      <th>geometry</th>\n",
       "      <th>Borough</th>\n",
       "    </tr>\n",
       "  </thead>\n",
       "  <tbody>\n",
       "    <tr>\n",
       "      <th>0</th>\n",
       "      <td>11436</td>\n",
       "      <td>0</td>\n",
       "      <td>Jamaica</td>\n",
       "      <td>18681.0</td>\n",
       "      <td>2.269930e+07</td>\n",
       "      <td>NY</td>\n",
       "      <td>Queens</td>\n",
       "      <td>36</td>\n",
       "      <td>081</td>\n",
       "      <td>http://www.usps.com/</td>\n",
       "      <td>0.0</td>\n",
       "      <td>0.0</td>\n",
       "      <td>POLYGON ((-73.80584847647394 40.68290932644251...</td>\n",
       "      <td>Q</td>\n",
       "    </tr>\n",
       "    <tr>\n",
       "      <th>1</th>\n",
       "      <td>11213</td>\n",
       "      <td>0</td>\n",
       "      <td>Brooklyn</td>\n",
       "      <td>62426.0</td>\n",
       "      <td>2.963100e+07</td>\n",
       "      <td>NY</td>\n",
       "      <td>Kings</td>\n",
       "      <td>36</td>\n",
       "      <td>047</td>\n",
       "      <td>http://www.usps.com/</td>\n",
       "      <td>0.0</td>\n",
       "      <td>0.0</td>\n",
       "      <td>POLYGON ((-73.93739763139813 40.67972958925087...</td>\n",
       "      <td>B</td>\n",
       "    </tr>\n",
       "    <tr>\n",
       "      <th>2</th>\n",
       "      <td>11212</td>\n",
       "      <td>0</td>\n",
       "      <td>Brooklyn</td>\n",
       "      <td>83866.0</td>\n",
       "      <td>4.197210e+07</td>\n",
       "      <td>NY</td>\n",
       "      <td>Kings</td>\n",
       "      <td>36</td>\n",
       "      <td>047</td>\n",
       "      <td>http://www.usps.com/</td>\n",
       "      <td>0.0</td>\n",
       "      <td>0.0</td>\n",
       "      <td>POLYGON ((-73.90294132545438 40.67083977590012...</td>\n",
       "      <td>B</td>\n",
       "    </tr>\n",
       "    <tr>\n",
       "      <th>3</th>\n",
       "      <td>11225</td>\n",
       "      <td>0</td>\n",
       "      <td>Brooklyn</td>\n",
       "      <td>56527.0</td>\n",
       "      <td>2.369863e+07</td>\n",
       "      <td>NY</td>\n",
       "      <td>Kings</td>\n",
       "      <td>36</td>\n",
       "      <td>047</td>\n",
       "      <td>http://www.usps.com/</td>\n",
       "      <td>0.0</td>\n",
       "      <td>0.0</td>\n",
       "      <td>POLYGON ((-73.95797316043482 40.67065695897571...</td>\n",
       "      <td>B</td>\n",
       "    </tr>\n",
       "    <tr>\n",
       "      <th>4</th>\n",
       "      <td>11218</td>\n",
       "      <td>0</td>\n",
       "      <td>Brooklyn</td>\n",
       "      <td>72280.0</td>\n",
       "      <td>3.686880e+07</td>\n",
       "      <td>NY</td>\n",
       "      <td>Kings</td>\n",
       "      <td>36</td>\n",
       "      <td>047</td>\n",
       "      <td>http://www.usps.com/</td>\n",
       "      <td>0.0</td>\n",
       "      <td>0.0</td>\n",
       "      <td>POLYGON ((-73.97208109564257 40.65059658727614...</td>\n",
       "      <td>B</td>\n",
       "    </tr>\n",
       "  </tbody>\n",
       "</table>\n",
       "</div>"
      ],
      "text/plain": [
       "  ZIPCODE BLDGZIP   PO_NAME  POPULATION          AREA STATE  COUNTY ST_FIPS  \\\n",
       "0   11436       0   Jamaica     18681.0  2.269930e+07    NY  Queens      36   \n",
       "1   11213       0  Brooklyn     62426.0  2.963100e+07    NY   Kings      36   \n",
       "2   11212       0  Brooklyn     83866.0  4.197210e+07    NY   Kings      36   \n",
       "3   11225       0  Brooklyn     56527.0  2.369863e+07    NY   Kings      36   \n",
       "4   11218       0  Brooklyn     72280.0  3.686880e+07    NY   Kings      36   \n",
       "\n",
       "  CTY_FIPS                   URL  SHAPE_AREA  SHAPE_LEN  \\\n",
       "0      081  http://www.usps.com/         0.0        0.0   \n",
       "1      047  http://www.usps.com/         0.0        0.0   \n",
       "2      047  http://www.usps.com/         0.0        0.0   \n",
       "3      047  http://www.usps.com/         0.0        0.0   \n",
       "4      047  http://www.usps.com/         0.0        0.0   \n",
       "\n",
       "                                            geometry Borough  \n",
       "0  POLYGON ((-73.80584847647394 40.68290932644251...       Q  \n",
       "1  POLYGON ((-73.93739763139813 40.67972958925087...       B  \n",
       "2  POLYGON ((-73.90294132545438 40.67083977590012...       B  \n",
       "3  POLYGON ((-73.95797316043482 40.67065695897571...       B  \n",
       "4  POLYGON ((-73.97208109564257 40.65059658727614...       B  "
      ]
     },
     "execution_count": 77,
     "metadata": {},
     "output_type": "execute_result"
    }
   ],
   "source": [
    "zipcode_shape_data.head()"
   ]
  },
  {
   "cell_type": "code",
   "execution_count": 78,
   "metadata": {},
   "outputs": [],
   "source": [
    "zip_df = zipcode_shape_data[['ZIPCODE', 'Borough', 'POPULATION', 'AREA', 'geometry']]\n"
   ]
  },
  {
   "cell_type": "code",
   "execution_count": 79,
   "metadata": {},
   "outputs": [],
   "source": [
    "# looks for edge cases where keeping the first duplicate values would not\n",
    "# identify the proper row (judged by incorrect borough)\n",
    "zip_df[zip_df.ZIPCODE.duplicated(keep=False)].sort_values(by='ZIPCODE');"
   ]
  },
  {
   "cell_type": "code",
   "execution_count": 80,
   "metadata": {},
   "outputs": [],
   "source": [
    "zip_df = zip_df[~((zip_df.ZIPCODE == '10463') & (zip_df.Borough == 'M'))]\n",
    "zip_df = zip_df[~((zip_df.ZIPCODE == '11370') & (zip_df.Borough == 'X'))]\n",
    "zip_df.drop_duplicates(subset='ZIPCODE', keep='first', inplace=True)\n",
    "zip_df.reset_index(drop=True, inplace=True)\n",
    "zip_df.ZIPCODE = zip_df.ZIPCODE.astype('int64')"
   ]
  },
  {
   "cell_type": "markdown",
   "metadata": {},
   "source": [
    "### Merge Zipcode data with tax return data"
   ]
  },
  {
   "cell_type": "code",
   "execution_count": 81,
   "metadata": {},
   "outputs": [],
   "source": [
    "tax_returns_df = pd.merge(zip_df, tax_returns_ny.reset_index(), how='inner', \n",
    "         left_on='ZIPCODE', right_on='zipcode').set_index('ZIPCODE')"
   ]
  },
  {
   "cell_type": "markdown",
   "metadata": {},
   "source": [
    "# Merging data with Household Income data"
   ]
  },
  {
   "cell_type": "code",
   "execution_count": 111,
   "metadata": {},
   "outputs": [],
   "source": [
    "df = pd.merge(nyc_playgrounds, tax_returns_df, how='right', left_on='Zip',\n",
    "    right_on='ZIPCODE').set_index('zipcode').drop('Zip',axis=1)\n"
   ]
  },
  {
   "cell_type": "code",
   "execution_count": 113,
   "metadata": {},
   "outputs": [
    {
     "data": {
      "text/html": [
       "<div>\n",
       "<style scoped>\n",
       "    .dataframe tbody tr th:only-of-type {\n",
       "        vertical-align: middle;\n",
       "    }\n",
       "\n",
       "    .dataframe tbody tr th {\n",
       "        vertical-align: top;\n",
       "    }\n",
       "\n",
       "    .dataframe thead th {\n",
       "        text-align: right;\n",
       "    }\n",
       "</style>\n",
       "<table border=\"1\" class=\"dataframe\">\n",
       "  <thead>\n",
       "    <tr style=\"text-align: right;\">\n",
       "      <th></th>\n",
       "      <th>Accessible</th>\n",
       "      <th>Adaptive_Swing</th>\n",
       "      <th>School</th>\n",
       "      <th>Status_closed</th>\n",
       "      <th>Status_open to the public</th>\n",
       "      <th>Status_two playgrounds</th>\n",
       "      <th>Status_weekdays</th>\n",
       "      <th>Status_weekends</th>\n",
       "      <th>Level_1.0</th>\n",
       "      <th>Level_2.0</th>\n",
       "      <th>...</th>\n",
       "      <th>N10300</th>\n",
       "      <th>A10300</th>\n",
       "      <th>N85530</th>\n",
       "      <th>A85530</th>\n",
       "      <th>N85300</th>\n",
       "      <th>A85300</th>\n",
       "      <th>N11901</th>\n",
       "      <th>A11901</th>\n",
       "      <th>N11902</th>\n",
       "      <th>A11902</th>\n",
       "    </tr>\n",
       "    <tr>\n",
       "      <th>zipcode</th>\n",
       "      <th></th>\n",
       "      <th></th>\n",
       "      <th></th>\n",
       "      <th></th>\n",
       "      <th></th>\n",
       "      <th></th>\n",
       "      <th></th>\n",
       "      <th></th>\n",
       "      <th></th>\n",
       "      <th></th>\n",
       "      <th></th>\n",
       "      <th></th>\n",
       "      <th></th>\n",
       "      <th></th>\n",
       "      <th></th>\n",
       "      <th></th>\n",
       "      <th></th>\n",
       "      <th></th>\n",
       "      <th></th>\n",
       "      <th></th>\n",
       "      <th></th>\n",
       "    </tr>\n",
       "  </thead>\n",
       "  <tbody>\n",
       "    <tr>\n",
       "      <th>10001</th>\n",
       "      <td>2.0</td>\n",
       "      <td>1.0</td>\n",
       "      <td>0.0</td>\n",
       "      <td>0.0</td>\n",
       "      <td>0.0</td>\n",
       "      <td>0.0</td>\n",
       "      <td>0.0</td>\n",
       "      <td>0.0</td>\n",
       "      <td>0.0</td>\n",
       "      <td>0.0</td>\n",
       "      <td>...</td>\n",
       "      <td>12470</td>\n",
       "      <td>524842</td>\n",
       "      <td>1980</td>\n",
       "      <td>6213</td>\n",
       "      <td>1680</td>\n",
       "      <td>7081</td>\n",
       "      <td>3680</td>\n",
       "      <td>40079</td>\n",
       "      <td>9600</td>\n",
       "      <td>51137</td>\n",
       "    </tr>\n",
       "    <tr>\n",
       "      <th>10002</th>\n",
       "      <td>22.0</td>\n",
       "      <td>4.0</td>\n",
       "      <td>1.0</td>\n",
       "      <td>0.0</td>\n",
       "      <td>1.0</td>\n",
       "      <td>0.0</td>\n",
       "      <td>0.0</td>\n",
       "      <td>0.0</td>\n",
       "      <td>0.0</td>\n",
       "      <td>11.0</td>\n",
       "      <td>...</td>\n",
       "      <td>29030</td>\n",
       "      <td>356377</td>\n",
       "      <td>1280</td>\n",
       "      <td>2110</td>\n",
       "      <td>1070</td>\n",
       "      <td>2964</td>\n",
       "      <td>9000</td>\n",
       "      <td>35096</td>\n",
       "      <td>30040</td>\n",
       "      <td>81377</td>\n",
       "    </tr>\n",
       "    <tr>\n",
       "      <th>10003</th>\n",
       "      <td>4.0</td>\n",
       "      <td>2.0</td>\n",
       "      <td>0.0</td>\n",
       "      <td>0.0</td>\n",
       "      <td>0.0</td>\n",
       "      <td>0.0</td>\n",
       "      <td>0.0</td>\n",
       "      <td>0.0</td>\n",
       "      <td>0.0</td>\n",
       "      <td>2.0</td>\n",
       "      <td>...</td>\n",
       "      <td>26030</td>\n",
       "      <td>1566958</td>\n",
       "      <td>5110</td>\n",
       "      <td>18272</td>\n",
       "      <td>4730</td>\n",
       "      <td>30671</td>\n",
       "      <td>8100</td>\n",
       "      <td>105180</td>\n",
       "      <td>17200</td>\n",
       "      <td>133151</td>\n",
       "    </tr>\n",
       "    <tr>\n",
       "      <th>10007</th>\n",
       "      <td>2.0</td>\n",
       "      <td>1.0</td>\n",
       "      <td>0.0</td>\n",
       "      <td>0.0</td>\n",
       "      <td>0.0</td>\n",
       "      <td>0.0</td>\n",
       "      <td>0.0</td>\n",
       "      <td>0.0</td>\n",
       "      <td>0.0</td>\n",
       "      <td>0.0</td>\n",
       "      <td>...</td>\n",
       "      <td>3180</td>\n",
       "      <td>767641</td>\n",
       "      <td>1400</td>\n",
       "      <td>8020</td>\n",
       "      <td>1240</td>\n",
       "      <td>19184</td>\n",
       "      <td>1170</td>\n",
       "      <td>28665</td>\n",
       "      <td>1730</td>\n",
       "      <td>67189</td>\n",
       "    </tr>\n",
       "    <tr>\n",
       "      <th>10009</th>\n",
       "      <td>7.0</td>\n",
       "      <td>1.0</td>\n",
       "      <td>0.0</td>\n",
       "      <td>0.0</td>\n",
       "      <td>0.0</td>\n",
       "      <td>0.0</td>\n",
       "      <td>0.0</td>\n",
       "      <td>0.0</td>\n",
       "      <td>0.0</td>\n",
       "      <td>0.0</td>\n",
       "      <td>...</td>\n",
       "      <td>27250</td>\n",
       "      <td>450366</td>\n",
       "      <td>1650</td>\n",
       "      <td>2675</td>\n",
       "      <td>1320</td>\n",
       "      <td>4035</td>\n",
       "      <td>7040</td>\n",
       "      <td>36988</td>\n",
       "      <td>23570</td>\n",
       "      <td>66621</td>\n",
       "    </tr>\n",
       "  </tbody>\n",
       "</table>\n",
       "<p>5 rows × 160 columns</p>\n",
       "</div>"
      ],
      "text/plain": [
       "         Accessible  Adaptive_Swing  School  Status_closed  \\\n",
       "zipcode                                                      \n",
       "10001           2.0             1.0     0.0            0.0   \n",
       "10002          22.0             4.0     1.0            0.0   \n",
       "10003           4.0             2.0     0.0            0.0   \n",
       "10007           2.0             1.0     0.0            0.0   \n",
       "10009           7.0             1.0     0.0            0.0   \n",
       "\n",
       "         Status_open to the public  Status_two playgrounds  Status_weekdays  \\\n",
       "zipcode                                                                       \n",
       "10001                          0.0                     0.0              0.0   \n",
       "10002                          1.0                     0.0              0.0   \n",
       "10003                          0.0                     0.0              0.0   \n",
       "10007                          0.0                     0.0              0.0   \n",
       "10009                          0.0                     0.0              0.0   \n",
       "\n",
       "         Status_weekends  Level_1.0  Level_2.0  ...  N10300   A10300  N85530  \\\n",
       "zipcode                                         ...                            \n",
       "10001                0.0        0.0        0.0  ...   12470   524842    1980   \n",
       "10002                0.0        0.0       11.0  ...   29030   356377    1280   \n",
       "10003                0.0        0.0        2.0  ...   26030  1566958    5110   \n",
       "10007                0.0        0.0        0.0  ...    3180   767641    1400   \n",
       "10009                0.0        0.0        0.0  ...   27250   450366    1650   \n",
       "\n",
       "        A85530  N85300  A85300 N11901  A11901  N11902  A11902  \n",
       "zipcode                                                        \n",
       "10001     6213    1680    7081   3680   40079    9600   51137  \n",
       "10002     2110    1070    2964   9000   35096   30040   81377  \n",
       "10003    18272    4730   30671   8100  105180   17200  133151  \n",
       "10007     8020    1240   19184   1170   28665    1730   67189  \n",
       "10009     2675    1320    4035   7040   36988   23570   66621  \n",
       "\n",
       "[5 rows x 160 columns]"
      ]
     },
     "execution_count": 113,
     "metadata": {},
     "output_type": "execute_result"
    }
   ],
   "source": [
    "df.head()"
   ]
  },
  {
   "cell_type": "code",
   "execution_count": 114,
   "metadata": {},
   "outputs": [
    {
     "name": "stdout",
     "output_type": "stream",
     "text": [
      "22 zips dont have parks at all\n"
     ]
    }
   ],
   "source": [
    "print('{} zips dont have parks at all'.format(\n",
    "    len(df[df.isna().any(axis=1)])))\n",
    "df[df.isna().any(axis=1)];"
   ]
  },
  {
   "cell_type": "markdown",
   "metadata": {},
   "source": [
    "### dummy borough column"
   ]
  },
  {
   "cell_type": "code",
   "execution_count": 115,
   "metadata": {},
   "outputs": [],
   "source": [
    "df['borough_name'] = df['Borough']\n",
    "df = _dummy(df,'Borough')"
   ]
  },
  {
   "cell_type": "markdown",
   "metadata": {},
   "source": [
    "# The Dataset is now relatively clean and ready to start working with\n",
    "\n",
    "I have been following along in `src/utils.py` creating functions that replicate the work done in this notebook."
   ]
  },
  {
   "cell_type": "code",
   "execution_count": 86,
   "metadata": {},
   "outputs": [],
   "source": [
    "import os"
   ]
  },
  {
   "cell_type": "code",
   "execution_count": 91,
   "metadata": {},
   "outputs": [
    {
     "data": {
      "text/plain": [
       "'/Users/kylecaron/Desktop/Point72/notebooks'"
      ]
     },
     "execution_count": 91,
     "metadata": {},
     "output_type": "execute_result"
    }
   ],
   "source": [
    "os.getcwd()"
   ]
  },
  {
   "cell_type": "code",
   "execution_count": null,
   "metadata": {},
   "outputs": [],
   "source": [
    "# os.chdir('notebooks/')"
   ]
  },
  {
   "cell_type": "code",
   "execution_count": 88,
   "metadata": {},
   "outputs": [],
   "source": [
    "os.chdir('../')\n",
    "from src.utils import import_clean_data\n",
    "os.chdir('notebooks/')"
   ]
  },
  {
   "cell_type": "code",
   "execution_count": 97,
   "metadata": {},
   "outputs": [],
   "source": [
    "df2 = import_clean_data()"
   ]
  },
  {
   "cell_type": "markdown",
   "metadata": {},
   "source": [
    "### Checking the datasets are equivalent"
   ]
  },
  {
   "cell_type": "code",
   "execution_count": 98,
   "metadata": {},
   "outputs": [
    {
     "data": {
      "text/plain": [
       "set()"
      ]
     },
     "execution_count": 98,
     "metadata": {},
     "output_type": "execute_result"
    }
   ],
   "source": [
    "set(df2.columns)- set(df.columns)"
   ]
  },
  {
   "cell_type": "code",
   "execution_count": 99,
   "metadata": {},
   "outputs": [
    {
     "data": {
      "text/plain": [
       "set()"
      ]
     },
     "execution_count": 99,
     "metadata": {},
     "output_type": "execute_result"
    }
   ],
   "source": [
    "set(df.columns)-set(df2.columns)"
   ]
  },
  {
   "cell_type": "code",
   "execution_count": 100,
   "metadata": {},
   "outputs": [
    {
     "data": {
      "text/plain": [
       "0"
      ]
     },
     "execution_count": 100,
     "metadata": {},
     "output_type": "execute_result"
    }
   ],
   "source": [
    "len(df.columns)-len(df2.columns)"
   ]
  },
  {
   "cell_type": "code",
   "execution_count": 101,
   "metadata": {},
   "outputs": [
    {
     "data": {
      "text/plain": [
       "0"
      ]
     },
     "execution_count": 101,
     "metadata": {},
     "output_type": "execute_result"
    }
   ],
   "source": [
    "len(df2)-len(df)"
   ]
  },
  {
   "cell_type": "markdown",
   "metadata": {},
   "source": [
    "# Exporting the Data for easy use"
   ]
  },
  {
   "cell_type": "code",
   "execution_count": 116,
   "metadata": {},
   "outputs": [],
   "source": [
    "df2.to_csv('../data/tax_playgrounds.csv', index=True)"
   ]
  },
  {
   "cell_type": "code",
   "execution_count": 106,
   "metadata": {},
   "outputs": [],
   "source": [
    "pd.read_csv('../data/tax_playgrounds.csv', index_col='zipcode');"
   ]
  }
 ],
 "metadata": {
  "kernelspec": {
   "display_name": "Python 3",
   "language": "python",
   "name": "python3"
  },
  "language_info": {
   "codemirror_mode": {
    "name": "ipython",
    "version": 3
   },
   "file_extension": ".py",
   "mimetype": "text/x-python",
   "name": "python",
   "nbconvert_exporter": "python",
   "pygments_lexer": "ipython3",
   "version": "3.7.5"
  }
 },
 "nbformat": 4,
 "nbformat_minor": 2
}
