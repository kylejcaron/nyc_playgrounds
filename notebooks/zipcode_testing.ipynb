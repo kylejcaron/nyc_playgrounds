{
 "cells": [
  {
   "cell_type": "code",
   "execution_count": 1,
   "metadata": {},
   "outputs": [],
   "source": [
    "import numpy as np\n",
    "import pandas as pd\n",
    "import matplotlib.pyplot as plt\n",
    "%matplotlib inline"
   ]
  },
  {
   "cell_type": "markdown",
   "metadata": {},
   "source": [
    "# Loading the Data"
   ]
  },
  {
   "cell_type": "markdown",
   "metadata": {},
   "source": [
    "### Playgrounds Dataset"
   ]
  },
  {
   "cell_type": "code",
   "execution_count": 2,
   "metadata": {},
   "outputs": [],
   "source": [
    "playgrounds = pd.read_json('../data/playgrounds/DPR_Playgrounds_001.json')\n",
    "parks = pd.read_json('../data/parks/DPR_Parks_001.json')"
   ]
  },
  {
   "cell_type": "markdown",
   "metadata": {},
   "source": [
    "### Parks Dataset"
   ]
  },
  {
   "cell_type": "markdown",
   "metadata": {},
   "source": [
    "# Joining the Playgrounds and Parks datasets"
   ]
  },
  {
   "cell_type": "code",
   "execution_count": 4,
   "metadata": {},
   "outputs": [],
   "source": [
    "playgrounds.rename(columns={'Name':'Playground_Name', 'Location':'Playground_Location'}, inplace=True)\n",
    "parks.rename(columns={'Name':'Park_Name', 'Location':'Park_Location'}, inplace=True)\n",
    "nyc_playgrounds = pd.merge(playgrounds, parks, how='left', on='Prop_ID')\n"
   ]
  },
  {
   "cell_type": "markdown",
   "metadata": {},
   "source": [
    "# Test 1: zipcode_finder.py file. Fuzzy address search\n",
    "\n",
    "There were about 9 edge cases where there was no zipcode and no coordinates in the dataset. I built a code that properly returned zipcodes for 8/9 of the entries (I found it impossible for Geopy to return the proper address of Classon Playground with the data available). I am now testing that code on a subset of entries and comparing the results to the ground truth to see if it is scaleable "
   ]
  },
  {
   "cell_type": "code",
   "execution_count": 6,
   "metadata": {},
   "outputs": [],
   "source": [
    "import os\n",
    "os.chdir('../')\n",
    "from src.zipcode_finder import *\n",
    "\n",
    "from geopy.geocoders import Nominatim\n",
    "geolocator = Nominatim(user_agent=\"new_app\")"
   ]
  },
  {
   "cell_type": "code",
   "execution_count": 7,
   "metadata": {},
   "outputs": [],
   "source": [
    "df = nyc_playgrounds[(nyc_playgrounds.Zip.notnull()) \n",
    "                & (nyc_playgrounds.lat.notnull())\n",
    "               & (nyc_playgrounds.Playground_Location.notnull())\n",
    "                 & (nyc_playgrounds.Playground_Name.notnull())\n",
    "                    & (nyc_playgrounds.Zip.str.len() == 5)]"
   ]
  },
  {
   "cell_type": "markdown",
   "metadata": {},
   "source": [
    "#### Pseudocode\n",
    " - If playground_name isn't null -> Search Geophy for Playground_Name with borough\n",
    " - elif parkname isn't null -> search Geophy for Park_Name with borough\n",
    " - else search playground location with borough"
   ]
  },
  {
   "cell_type": "markdown",
   "metadata": {},
   "source": [
    "#### Testing location search"
   ]
  },
  {
   "cell_type": "code",
   "execution_count": 8,
   "metadata": {},
   "outputs": [],
   "source": [
    "tf = df.sample(n=20)\n",
    "test_series = tf.apply(test,axis=1,args=(geolocator,))\n",
    "tf['zip2'] = test_series.values"
   ]
  },
  {
   "cell_type": "code",
   "execution_count": 9,
   "metadata": {},
   "outputs": [
    {
     "data": {
      "text/plain": [
       "0.55"
      ]
     },
     "execution_count": 9,
     "metadata": {},
     "output_type": "execute_result"
    }
   ],
   "source": [
    "np.mean(tf['Zip']==tf['zip2'])"
   ]
  },
  {
   "cell_type": "markdown",
   "metadata": {},
   "source": [
    "While this method worked for 8/9 edge cases I originally tested it on and built it around, it does not scale to the larger dataframe and shouldnt be used"
   ]
  },
  {
   "cell_type": "markdown",
   "metadata": {},
   "source": [
    "# Test 2: playground coordinate search vs. park zipcode\n",
    "\n",
    "\n",
    "Question: Are the playground coordinates different than the park zipcode? \n",
    " - Maybe the park crosses between multiple zipcodes and the playground is only in one of them\n",
    " - Maybe there are data entry issues"
   ]
  },
  {
   "cell_type": "code",
   "execution_count": 9,
   "metadata": {},
   "outputs": [],
   "source": [
    "# Making sure I only test valid entries (1 zipcode, coordinates present)\n",
    "test = nyc_playgrounds[(nyc_playgrounds.lat.notnull()) &\n",
    "                      (nyc_playgrounds.Zip.str.len() == 5)]\n",
    "\n",
    "tf2 = test.sample(n=20, random_state=101)"
   ]
  },
  {
   "cell_type": "code",
   "execution_count": 10,
   "metadata": {},
   "outputs": [],
   "source": [
    "def _coord_to_zip(row, geolocator):\n",
    "    coordinate_query = '{}, {}'.format(row['lat'], row['lon'])\n",
    "    if geolocator.reverse(coordinate_query).raw:\n",
    "        try:\n",
    "            return geolocator.reverse(coordinate_query).raw['address']['postcode'][:5]\n",
    "        except:\n",
    "            return np.NaN\n",
    "    else:\n",
    "        return np.NaN\n",
    "    "
   ]
  },
  {
   "cell_type": "code",
   "execution_count": 11,
   "metadata": {},
   "outputs": [
    {
     "data": {
      "text/plain": [
       "0.85"
      ]
     },
     "execution_count": 11,
     "metadata": {},
     "output_type": "execute_result"
    }
   ],
   "source": [
    "tf2_series = tf2.apply(_coord_to_zip, args=(geolocator,),axis=1)\n",
    "tf2['zip2'] = tf2_series.values\n",
    "np.mean(tf2['Zip']==tf2['zip2'])"
   ]
  },
  {
   "cell_type": "code",
   "execution_count": 12,
   "metadata": {},
   "outputs": [
    {
     "data": {
      "text/html": [
       "<div>\n",
       "<style scoped>\n",
       "    .dataframe tbody tr th:only-of-type {\n",
       "        vertical-align: middle;\n",
       "    }\n",
       "\n",
       "    .dataframe tbody tr th {\n",
       "        vertical-align: top;\n",
       "    }\n",
       "\n",
       "    .dataframe thead th {\n",
       "        text-align: right;\n",
       "    }\n",
       "</style>\n",
       "<table border=\"1\" class=\"dataframe\">\n",
       "  <thead>\n",
       "    <tr style=\"text-align: right;\">\n",
       "      <th></th>\n",
       "      <th>Accessible</th>\n",
       "      <th>Adaptive_Swing</th>\n",
       "      <th>Level</th>\n",
       "      <th>Playground_Location</th>\n",
       "      <th>Playground_Name</th>\n",
       "      <th>Playground_ID</th>\n",
       "      <th>Prop_ID</th>\n",
       "      <th>School_ID</th>\n",
       "      <th>Status</th>\n",
       "      <th>lat</th>\n",
       "      <th>lon</th>\n",
       "      <th>Park_Location</th>\n",
       "      <th>Park_Name</th>\n",
       "      <th>Zip</th>\n",
       "      <th>zip2</th>\n",
       "    </tr>\n",
       "  </thead>\n",
       "  <tbody>\n",
       "    <tr>\n",
       "      <th>849</th>\n",
       "      <td>Y</td>\n",
       "      <td>Y</td>\n",
       "      <td>2.0</td>\n",
       "      <td>E 164 ST &amp; RIVER AVE</td>\n",
       "      <td>Mullaly Park (1)</td>\n",
       "      <td>X034-01</td>\n",
       "      <td>X034</td>\n",
       "      <td>None</td>\n",
       "      <td>None</td>\n",
       "      <td>40.8314</td>\n",
       "      <td>-73.9254</td>\n",
       "      <td>Jerome Av to River Av bet. E 164 St and McClel...</td>\n",
       "      <td>Mullaly Park</td>\n",
       "      <td>10452</td>\n",
       "      <td>NaN</td>\n",
       "    </tr>\n",
       "    <tr>\n",
       "      <th>353</th>\n",
       "      <td>Y</td>\n",
       "      <td>N</td>\n",
       "      <td>2.0</td>\n",
       "      <td>Henry St, Market St, E Broadway</td>\n",
       "      <td>Loeb Playground</td>\n",
       "      <td>M067</td>\n",
       "      <td>M067</td>\n",
       "      <td>None</td>\n",
       "      <td>None</td>\n",
       "      <td>40.7132</td>\n",
       "      <td>-73.9943</td>\n",
       "      <td>Henry St., Market St., E. Broadway</td>\n",
       "      <td>Sophie Irene Loeb</td>\n",
       "      <td>10002</td>\n",
       "      <td>11201</td>\n",
       "    </tr>\n",
       "    <tr>\n",
       "      <th>615</th>\n",
       "      <td>Y</td>\n",
       "      <td>N</td>\n",
       "      <td>4.0</td>\n",
       "      <td>Van Wyck Exwy, 106 Ave, 142 St, 104 Ave</td>\n",
       "      <td>Norelli-hargreaves Playground</td>\n",
       "      <td>Q220B</td>\n",
       "      <td>Q220B</td>\n",
       "      <td>None</td>\n",
       "      <td>None</td>\n",
       "      <td>40.6902</td>\n",
       "      <td>-73.8088</td>\n",
       "      <td>Van Wyck Exwy. Sr. Rd. E., 142 St., 106 Ave.</td>\n",
       "      <td>Norelli-Hargreaves Playground</td>\n",
       "      <td>11435</td>\n",
       "      <td>11436</td>\n",
       "    </tr>\n",
       "  </tbody>\n",
       "</table>\n",
       "</div>"
      ],
      "text/plain": [
       "    Accessible Adaptive_Swing  Level                      Playground_Location  \\\n",
       "849          Y              Y    2.0                     E 164 ST & RIVER AVE   \n",
       "353          Y              N    2.0          Henry St, Market St, E Broadway   \n",
       "615          Y              N    4.0  Van Wyck Exwy, 106 Ave, 142 St, 104 Ave   \n",
       "\n",
       "                   Playground_Name Playground_ID Prop_ID School_ID Status  \\\n",
       "849               Mullaly Park (1)       X034-01    X034      None   None   \n",
       "353                Loeb Playground          M067    M067      None   None   \n",
       "615  Norelli-hargreaves Playground         Q220B   Q220B      None   None   \n",
       "\n",
       "         lat      lon                                      Park_Location  \\\n",
       "849  40.8314 -73.9254  Jerome Av to River Av bet. E 164 St and McClel...   \n",
       "353  40.7132 -73.9943                 Henry St., Market St., E. Broadway   \n",
       "615  40.6902 -73.8088       Van Wyck Exwy. Sr. Rd. E., 142 St., 106 Ave.   \n",
       "\n",
       "                         Park_Name    Zip   zip2  \n",
       "849                   Mullaly Park  10452    NaN  \n",
       "353              Sophie Irene Loeb  10002  11201  \n",
       "615  Norelli-Hargreaves Playground  11435  11436  "
      ]
     },
     "execution_count": 12,
     "metadata": {},
     "output_type": "execute_result"
    }
   ],
   "source": [
    "tf2[tf2['Zip'] != tf2['zip2']]"
   ]
  },
  {
   "cell_type": "markdown",
   "metadata": {},
   "source": [
    "There were only 3 cases where this method did not work for this small subset. In all 3 cases, the original zipcode was the correct zipcode and geopy failed to return the proper zip (manually checked via google maps).\n",
    "\n",
    "I have therefore come to the conclusion that the original park zipcodes are reasonably representative of the true playground location. Geopy's coordinate lookup is also mildly representative of the true location, however clearly it is not perfect and it's accuracy should likely be explored more later down the line. For now, it is useful\n",
    "\n",
    "__A note about the small testing samples:__ geopy has a request limit that I do not want to exceed. It would be better to test this on a larger sample size, or even with a train/test approach."
   ]
  },
  {
   "cell_type": "code",
   "execution_count": null,
   "metadata": {},
   "outputs": [],
   "source": []
  }
 ],
 "metadata": {
  "kernelspec": {
   "display_name": "Python 3",
   "language": "python",
   "name": "python3"
  },
  "language_info": {
   "codemirror_mode": {
    "name": "ipython",
    "version": 3
   },
   "file_extension": ".py",
   "mimetype": "text/x-python",
   "name": "python",
   "nbconvert_exporter": "python",
   "pygments_lexer": "ipython3",
   "version": "3.7.5"
  }
 },
 "nbformat": 4,
 "nbformat_minor": 2
}
